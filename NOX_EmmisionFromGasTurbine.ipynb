{
 "cells": [
  {
   "cell_type": "markdown",
   "id": "a2d7b6d3",
   "metadata": {},
   "source": [
    "# Prerequisits"
   ]
  },
  {
   "cell_type": "code",
   "execution_count": 1,
   "id": "867eee04",
   "metadata": {},
   "outputs": [
    {
     "name": "stderr",
     "output_type": "stream",
     "text": [
      "C:\\Users\\320148~1\\AppData\\Local\\Temp/ipykernel_9264/3085796545.py:13: DeprecationWarning: `import kerastuner` is deprecated, please use `import keras_tuner`.\n",
      "  import kerastuner as kt\n"
     ]
    }
   ],
   "source": [
    "import pandas as pd\n",
    "import numpy as np\n",
    "import seaborn as sns\n",
    "import matplotlib.pyplot as plt\n",
    "%matplotlib inline\n",
    "\n",
    "import tensorflow as tf\n",
    "from tensorflow import keras\n",
    "from tensorflow.keras import layers\n",
    "\n",
    "from tensorflow.keras.layers.experimental import preprocessing \n",
    "\n",
    "import kerastuner as kt\n",
    "from kerastuner.tuners import RandomSearch"
   ]
  },
  {
   "cell_type": "markdown",
   "id": "7e5c3d1b",
   "metadata": {},
   "source": [
    "# Read Data"
   ]
  },
  {
   "cell_type": "code",
   "execution_count": 2,
   "id": "b19109c9",
   "metadata": {},
   "outputs": [
    {
     "data": {
      "text/plain": [
       "(7628, 11)"
      ]
     },
     "execution_count": 2,
     "metadata": {},
     "output_type": "execute_result"
    }
   ],
   "source": [
    "data=pd.read_csv('gt_2012.csv')\n",
    "data.shape"
   ]
  },
  {
   "cell_type": "code",
   "execution_count": 3,
   "id": "76aeb9b2",
   "metadata": {},
   "outputs": [
    {
     "data": {
      "text/html": [
       "<div>\n",
       "<style scoped>\n",
       "    .dataframe tbody tr th:only-of-type {\n",
       "        vertical-align: middle;\n",
       "    }\n",
       "\n",
       "    .dataframe tbody tr th {\n",
       "        vertical-align: top;\n",
       "    }\n",
       "\n",
       "    .dataframe thead th {\n",
       "        text-align: right;\n",
       "    }\n",
       "</style>\n",
       "<table border=\"1\" class=\"dataframe\">\n",
       "  <thead>\n",
       "    <tr style=\"text-align: right;\">\n",
       "      <th></th>\n",
       "      <th>AT</th>\n",
       "      <th>AP</th>\n",
       "      <th>AH</th>\n",
       "      <th>AFDP</th>\n",
       "      <th>GTEP</th>\n",
       "      <th>TIT</th>\n",
       "      <th>TAT</th>\n",
       "      <th>TEY</th>\n",
       "      <th>CDP</th>\n",
       "      <th>CO</th>\n",
       "      <th>NOX</th>\n",
       "    </tr>\n",
       "  </thead>\n",
       "  <tbody>\n",
       "    <tr>\n",
       "      <th>0</th>\n",
       "      <td>6.8594</td>\n",
       "      <td>1007.9</td>\n",
       "      <td>96.799</td>\n",
       "      <td>3.5000</td>\n",
       "      <td>19.663</td>\n",
       "      <td>1059.2</td>\n",
       "      <td>550.00</td>\n",
       "      <td>114.70</td>\n",
       "      <td>10.605</td>\n",
       "      <td>3.1547</td>\n",
       "      <td>82.722</td>\n",
       "    </tr>\n",
       "    <tr>\n",
       "      <th>1</th>\n",
       "      <td>6.7850</td>\n",
       "      <td>1008.4</td>\n",
       "      <td>97.118</td>\n",
       "      <td>3.4998</td>\n",
       "      <td>19.728</td>\n",
       "      <td>1059.3</td>\n",
       "      <td>550.00</td>\n",
       "      <td>114.72</td>\n",
       "      <td>10.598</td>\n",
       "      <td>3.2363</td>\n",
       "      <td>82.776</td>\n",
       "    </tr>\n",
       "    <tr>\n",
       "      <th>2</th>\n",
       "      <td>6.8977</td>\n",
       "      <td>1008.8</td>\n",
       "      <td>95.939</td>\n",
       "      <td>3.4824</td>\n",
       "      <td>19.779</td>\n",
       "      <td>1059.4</td>\n",
       "      <td>549.87</td>\n",
       "      <td>114.71</td>\n",
       "      <td>10.601</td>\n",
       "      <td>3.2012</td>\n",
       "      <td>82.468</td>\n",
       "    </tr>\n",
       "    <tr>\n",
       "      <th>3</th>\n",
       "      <td>7.0569</td>\n",
       "      <td>1009.2</td>\n",
       "      <td>95.249</td>\n",
       "      <td>3.4805</td>\n",
       "      <td>19.792</td>\n",
       "      <td>1059.6</td>\n",
       "      <td>549.99</td>\n",
       "      <td>114.72</td>\n",
       "      <td>10.606</td>\n",
       "      <td>3.1923</td>\n",
       "      <td>82.670</td>\n",
       "    </tr>\n",
       "    <tr>\n",
       "      <th>4</th>\n",
       "      <td>7.3978</td>\n",
       "      <td>1009.7</td>\n",
       "      <td>95.150</td>\n",
       "      <td>3.4976</td>\n",
       "      <td>19.765</td>\n",
       "      <td>1059.7</td>\n",
       "      <td>549.98</td>\n",
       "      <td>114.72</td>\n",
       "      <td>10.612</td>\n",
       "      <td>3.2484</td>\n",
       "      <td>82.311</td>\n",
       "    </tr>\n",
       "  </tbody>\n",
       "</table>\n",
       "</div>"
      ],
      "text/plain": [
       "       AT      AP      AH    AFDP    GTEP     TIT     TAT     TEY     CDP  \\\n",
       "0  6.8594  1007.9  96.799  3.5000  19.663  1059.2  550.00  114.70  10.605   \n",
       "1  6.7850  1008.4  97.118  3.4998  19.728  1059.3  550.00  114.72  10.598   \n",
       "2  6.8977  1008.8  95.939  3.4824  19.779  1059.4  549.87  114.71  10.601   \n",
       "3  7.0569  1009.2  95.249  3.4805  19.792  1059.6  549.99  114.72  10.606   \n",
       "4  7.3978  1009.7  95.150  3.4976  19.765  1059.7  549.98  114.72  10.612   \n",
       "\n",
       "       CO     NOX  \n",
       "0  3.1547  82.722  \n",
       "1  3.2363  82.776  \n",
       "2  3.2012  82.468  \n",
       "3  3.1923  82.670  \n",
       "4  3.2484  82.311  "
      ]
     },
     "execution_count": 3,
     "metadata": {},
     "output_type": "execute_result"
    }
   ],
   "source": [
    "data.head()"
   ]
  },
  {
   "cell_type": "code",
   "execution_count": 4,
   "id": "1d2d5b8b",
   "metadata": {},
   "outputs": [
    {
     "data": {
      "text/plain": [
       "AT      0\n",
       "AP      0\n",
       "AH      0\n",
       "AFDP    0\n",
       "GTEP    0\n",
       "TIT     0\n",
       "TAT     0\n",
       "TEY     0\n",
       "CDP     0\n",
       "CO      0\n",
       "NOX     0\n",
       "dtype: int64"
      ]
     },
     "execution_count": 4,
     "metadata": {},
     "output_type": "execute_result"
    }
   ],
   "source": [
    "data.isnull().sum()"
   ]
  },
  {
   "cell_type": "code",
   "execution_count": 5,
   "id": "5d745ac3",
   "metadata": {
    "scrolled": true
   },
   "outputs": [
    {
     "data": {
      "text/html": [
       "<div>\n",
       "<style scoped>\n",
       "    .dataframe tbody tr th:only-of-type {\n",
       "        vertical-align: middle;\n",
       "    }\n",
       "\n",
       "    .dataframe tbody tr th {\n",
       "        vertical-align: top;\n",
       "    }\n",
       "\n",
       "    .dataframe thead th {\n",
       "        text-align: right;\n",
       "    }\n",
       "</style>\n",
       "<table border=\"1\" class=\"dataframe\">\n",
       "  <thead>\n",
       "    <tr style=\"text-align: right;\">\n",
       "      <th></th>\n",
       "      <th>count</th>\n",
       "      <th>mean</th>\n",
       "      <th>std</th>\n",
       "      <th>min</th>\n",
       "      <th>25%</th>\n",
       "      <th>50%</th>\n",
       "      <th>75%</th>\n",
       "      <th>max</th>\n",
       "    </tr>\n",
       "  </thead>\n",
       "  <tbody>\n",
       "    <tr>\n",
       "      <th>AT</th>\n",
       "      <td>7628.0</td>\n",
       "      <td>18.397950</td>\n",
       "      <td>7.661038</td>\n",
       "      <td>0.522300</td>\n",
       "      <td>12.269250</td>\n",
       "      <td>19.12050</td>\n",
       "      <td>24.337250</td>\n",
       "      <td>34.9290</td>\n",
       "    </tr>\n",
       "    <tr>\n",
       "      <th>AP</th>\n",
       "      <td>7628.0</td>\n",
       "      <td>1012.258153</td>\n",
       "      <td>6.384291</td>\n",
       "      <td>985.850000</td>\n",
       "      <td>1008.400000</td>\n",
       "      <td>1012.00000</td>\n",
       "      <td>1016.000000</td>\n",
       "      <td>1031.8000</td>\n",
       "    </tr>\n",
       "    <tr>\n",
       "      <th>AH</th>\n",
       "      <td>7628.0</td>\n",
       "      <td>79.074804</td>\n",
       "      <td>14.105087</td>\n",
       "      <td>30.344000</td>\n",
       "      <td>69.165250</td>\n",
       "      <td>82.41150</td>\n",
       "      <td>90.356250</td>\n",
       "      <td>100.2000</td>\n",
       "    </tr>\n",
       "    <tr>\n",
       "      <th>AFDP</th>\n",
       "      <td>7628.0</td>\n",
       "      <td>4.306717</td>\n",
       "      <td>0.831170</td>\n",
       "      <td>2.087400</td>\n",
       "      <td>3.882650</td>\n",
       "      <td>4.29805</td>\n",
       "      <td>4.670525</td>\n",
       "      <td>7.6106</td>\n",
       "    </tr>\n",
       "    <tr>\n",
       "      <th>GTEP</th>\n",
       "      <td>7628.0</td>\n",
       "      <td>25.181361</td>\n",
       "      <td>4.006825</td>\n",
       "      <td>18.100000</td>\n",
       "      <td>23.090750</td>\n",
       "      <td>25.22100</td>\n",
       "      <td>26.322250</td>\n",
       "      <td>37.4020</td>\n",
       "    </tr>\n",
       "    <tr>\n",
       "      <th>TIT</th>\n",
       "      <td>7628.0</td>\n",
       "      <td>1082.890233</td>\n",
       "      <td>16.852148</td>\n",
       "      <td>1024.600000</td>\n",
       "      <td>1075.800000</td>\n",
       "      <td>1089.10000</td>\n",
       "      <td>1093.800000</td>\n",
       "      <td>1100.8000</td>\n",
       "    </tr>\n",
       "    <tr>\n",
       "      <th>TAT</th>\n",
       "      <td>7628.0</td>\n",
       "      <td>546.263793</td>\n",
       "      <td>7.331345</td>\n",
       "      <td>513.060000</td>\n",
       "      <td>547.657500</td>\n",
       "      <td>549.92000</td>\n",
       "      <td>550.070000</td>\n",
       "      <td>550.5300</td>\n",
       "    </tr>\n",
       "    <tr>\n",
       "      <th>TEY</th>\n",
       "      <td>7628.0</td>\n",
       "      <td>132.675552</td>\n",
       "      <td>15.302140</td>\n",
       "      <td>101.150000</td>\n",
       "      <td>125.240000</td>\n",
       "      <td>133.76000</td>\n",
       "      <td>134.900000</td>\n",
       "      <td>174.6100</td>\n",
       "    </tr>\n",
       "    <tr>\n",
       "      <th>CDP</th>\n",
       "      <td>7628.0</td>\n",
       "      <td>12.000121</td>\n",
       "      <td>1.049384</td>\n",
       "      <td>9.928600</td>\n",
       "      <td>11.469750</td>\n",
       "      <td>12.04100</td>\n",
       "      <td>12.290000</td>\n",
       "      <td>15.0810</td>\n",
       "    </tr>\n",
       "    <tr>\n",
       "      <th>CO</th>\n",
       "      <td>7628.0</td>\n",
       "      <td>2.361133</td>\n",
       "      <td>2.474116</td>\n",
       "      <td>0.007505</td>\n",
       "      <td>1.127125</td>\n",
       "      <td>1.63630</td>\n",
       "      <td>2.953025</td>\n",
       "      <td>44.1030</td>\n",
       "    </tr>\n",
       "    <tr>\n",
       "      <th>NOX</th>\n",
       "      <td>7628.0</td>\n",
       "      <td>68.788965</td>\n",
       "      <td>10.224937</td>\n",
       "      <td>41.777000</td>\n",
       "      <td>62.531250</td>\n",
       "      <td>67.24650</td>\n",
       "      <td>73.424500</td>\n",
       "      <td>119.8900</td>\n",
       "    </tr>\n",
       "  </tbody>\n",
       "</table>\n",
       "</div>"
      ],
      "text/plain": [
       "       count         mean        std          min          25%         50%  \\\n",
       "AT    7628.0    18.397950   7.661038     0.522300    12.269250    19.12050   \n",
       "AP    7628.0  1012.258153   6.384291   985.850000  1008.400000  1012.00000   \n",
       "AH    7628.0    79.074804  14.105087    30.344000    69.165250    82.41150   \n",
       "AFDP  7628.0     4.306717   0.831170     2.087400     3.882650     4.29805   \n",
       "GTEP  7628.0    25.181361   4.006825    18.100000    23.090750    25.22100   \n",
       "TIT   7628.0  1082.890233  16.852148  1024.600000  1075.800000  1089.10000   \n",
       "TAT   7628.0   546.263793   7.331345   513.060000   547.657500   549.92000   \n",
       "TEY   7628.0   132.675552  15.302140   101.150000   125.240000   133.76000   \n",
       "CDP   7628.0    12.000121   1.049384     9.928600    11.469750    12.04100   \n",
       "CO    7628.0     2.361133   2.474116     0.007505     1.127125     1.63630   \n",
       "NOX   7628.0    68.788965  10.224937    41.777000    62.531250    67.24650   \n",
       "\n",
       "              75%        max  \n",
       "AT      24.337250    34.9290  \n",
       "AP    1016.000000  1031.8000  \n",
       "AH      90.356250   100.2000  \n",
       "AFDP     4.670525     7.6106  \n",
       "GTEP    26.322250    37.4020  \n",
       "TIT   1093.800000  1100.8000  \n",
       "TAT    550.070000   550.5300  \n",
       "TEY    134.900000   174.6100  \n",
       "CDP     12.290000    15.0810  \n",
       "CO       2.953025    44.1030  \n",
       "NOX     73.424500   119.8900  "
      ]
     },
     "execution_count": 5,
     "metadata": {},
     "output_type": "execute_result"
    }
   ],
   "source": [
    "data.describe().transpose()"
   ]
  },
  {
   "cell_type": "code",
   "execution_count": 6,
   "id": "1c0cd0d0",
   "metadata": {},
   "outputs": [],
   "source": [
    "features=data.columns"
   ]
  },
  {
   "cell_type": "code",
   "execution_count": 7,
   "id": "acdc0302",
   "metadata": {
    "scrolled": false
   },
   "outputs": [
    {
     "data": {
      "image/png": "[encoded data removed]",
      "text/plain": [
       "<Figure size 432x288 with 1 Axes>"
      ]
     },
     "metadata": {
      "needs_background": "light"
     },
     "output_type": "display_data"
    },
    {
     "data": {
      "image/png": "[encoded data removed]",
      "text/plain": [
       "<Figure size 432x288 with 1 Axes>"
      ]
     },
     "metadata": {
      "needs_background": "light"
     },
     "output_type": "display_data"
    },
    {
     "data": {
      "image/png": "[encoded data removed]",
      "text/plain": [
       "<Figure size 432x288 with 1 Axes>"
      ]
     },
     "metadata": {
      "needs_background": "light"
     },
     "output_type": "display_data"
    },
    {
     "data": {
      "image/png": "[encoded data removed]",
      "text/plain": [
       "<Figure size 432x288 with 1 Axes>"
      ]
     },
     "metadata": {
      "needs_background": "light"
     },
     "output_type": "display_data"
    },
    {
     "data": {
      "image/png": "[encoded data removed]",
      "text/plain": [
       "<Figure size 432x288 with 1 Axes>"
      ]
     },
     "metadata": {
      "needs_background": "light"
     },
     "output_type": "display_data"
    },
    {
     "data": {
      "image/png": "[encoded data removed]",
      "text/plain": [
       "<Figure size 432x288 with 1 Axes>"
      ]
     },
     "metadata": {
      "needs_background": "light"
     },
     "output_type": "display_data"
    },
    {
     "data": {
      "image/png": "[encoded data removed]",
      "text/plain": [
       "<Figure size 432x288 with 1 Axes>"
      ]
     },
     "metadata": {
      "needs_background": "light"
     },
     "output_type": "display_data"
    },
    {
     "data": {
      "image/png": "[encoded data removed]",
      "text/plain": [
       "<Figure size 432x288 with 1 Axes>"
      ]
     },
     "metadata": {
      "needs_background": "light"
     },
     "output_type": "display_data"
    },
    {
     "data": {
      "image/png": "[encoded data removed]",
      "text/plain": [
       "<Figure size 432x288 with 1 Axes>"
      ]
     },
     "metadata": {
      "needs_background": "light"
     },
     "output_type": "display_data"
    },
    {
     "data": {
      "image/png": "[encoded data removed]",
      "text/plain": [
       "<Figure size 432x288 with 1 Axes>"
      ]
     },
     "metadata": {
      "needs_background": "light"
     },
     "output_type": "display_data"
    },
    {
     "data": {
      "image/png": "[encoded data removed]",
      "text/plain": [
       "<Figure size 432x288 with 1 Axes>"
      ]
     },
     "metadata": {
      "needs_background": "light"
     },
     "output_type": "display_data"
    }
   ],
   "source": [
    "for feature in features:\n",
    "    data[feature].hist(bins=25)\n",
    "    plt.xlabel(feature)\n",
    "    plt.ylabel(\"Count\")\n",
    "    plt.title(feature)\n",
    "    plt.show()"
   ]
  },
  {
   "cell_type": "code",
   "execution_count": 8,
   "id": "0ae4ea2d",
   "metadata": {},
   "outputs": [],
   "source": [
    "for feature in data.columns:\n",
    "    data[feature]=np.log(data[feature])"
   ]
  },
  {
   "cell_type": "markdown",
   "id": "5b0736f0",
   "metadata": {},
   "source": [
    "# Scaling"
   ]
  },
  {
   "cell_type": "code",
   "execution_count": 9,
   "id": "ebe9aec3",
   "metadata": {},
   "outputs": [
    {
     "data": {
      "text/plain": [
       "MinMaxScaler()"
      ]
     },
     "execution_count": 9,
     "metadata": {},
     "output_type": "execute_result"
    }
   ],
   "source": [
    "feature_scale=[feature for feature in data.columns if feature not in ['NOX']]\n",
    "\n",
    "from sklearn.preprocessing import MinMaxScaler\n",
    "scaler=MinMaxScaler()\n",
    "scaler.fit(data[feature_scale])"
   ]
  },
  {
   "cell_type": "code",
   "execution_count": 10,
   "id": "c60feef4",
   "metadata": {},
   "outputs": [
    {
     "data": {
      "text/plain": [
       "array([[0.612714  , 0.48555767, 0.97109291, ..., 0.23026903, 0.157664  ,\n",
       "        0.69608003],\n",
       "       [0.61011915, 0.49644446, 0.9738471 , ..., 0.23058839, 0.15608444,\n",
       "        0.69902255],\n",
       "       [0.61403883, 0.50515001, 0.96362236, ..., 0.23042872, 0.15676152,\n",
       "        0.69776603],\n",
       "       ...,\n",
       "       [0.69934915, 0.79051331, 0.87806439, ..., 0.50828233, 0.43609482,\n",
       "        0.60323213],\n",
       "       [0.70302498, 0.79051331, 0.88463937, ..., 0.50416158, 0.41532319,\n",
       "        0.60216432],\n",
       "       [0.70380684, 0.78621718, 0.89142948, ..., 0.17416504, 0.15314819,\n",
       "        0.80345593]])"
      ]
     },
     "execution_count": 10,
     "metadata": {},
     "output_type": "execute_result"
    }
   ],
   "source": [
    "scaler.transform(data[feature_scale])"
   ]
  },
  {
   "cell_type": "code",
   "execution_count": 11,
   "id": "fc1dce90",
   "metadata": {},
   "outputs": [],
   "source": [
    "data = pd.concat([data[['NOX']].reset_index(drop=True),\n",
    "                    pd.DataFrame(scaler.transform(data[feature_scale]), columns=feature_scale)],\n",
    "                    axis=1)"
   ]
  },
  {
   "cell_type": "code",
   "execution_count": 12,
   "id": "c36d0ef2",
   "metadata": {},
   "outputs": [
    {
     "data": {
      "text/html": [
       "<div>\n",
       "<style scoped>\n",
       "    .dataframe tbody tr th:only-of-type {\n",
       "        vertical-align: middle;\n",
       "    }\n",
       "\n",
       "    .dataframe tbody tr th {\n",
       "        vertical-align: top;\n",
       "    }\n",
       "\n",
       "    .dataframe thead th {\n",
       "        text-align: right;\n",
       "    }\n",
       "</style>\n",
       "<table border=\"1\" class=\"dataframe\">\n",
       "  <thead>\n",
       "    <tr style=\"text-align: right;\">\n",
       "      <th></th>\n",
       "      <th>NOX</th>\n",
       "      <th>AT</th>\n",
       "      <th>AP</th>\n",
       "      <th>AH</th>\n",
       "      <th>AFDP</th>\n",
       "      <th>GTEP</th>\n",
       "      <th>TIT</th>\n",
       "      <th>TAT</th>\n",
       "      <th>TEY</th>\n",
       "      <th>CDP</th>\n",
       "      <th>CO</th>\n",
       "    </tr>\n",
       "  </thead>\n",
       "  <tbody>\n",
       "    <tr>\n",
       "      <th>0</th>\n",
       "      <td>4.415486</td>\n",
       "      <td>0.612714</td>\n",
       "      <td>0.485558</td>\n",
       "      <td>0.971093</td>\n",
       "      <td>0.399532</td>\n",
       "      <td>0.114116</td>\n",
       "      <td>0.462977</td>\n",
       "      <td>0.986336</td>\n",
       "      <td>0.230269</td>\n",
       "      <td>0.157664</td>\n",
       "      <td>0.696080</td>\n",
       "    </tr>\n",
       "    <tr>\n",
       "      <th>1</th>\n",
       "      <td>4.416138</td>\n",
       "      <td>0.610119</td>\n",
       "      <td>0.496444</td>\n",
       "      <td>0.973847</td>\n",
       "      <td>0.399488</td>\n",
       "      <td>0.118663</td>\n",
       "      <td>0.464293</td>\n",
       "      <td>0.986336</td>\n",
       "      <td>0.230588</td>\n",
       "      <td>0.156084</td>\n",
       "      <td>0.699023</td>\n",
       "    </tr>\n",
       "    <tr>\n",
       "      <th>2</th>\n",
       "      <td>4.412410</td>\n",
       "      <td>0.614039</td>\n",
       "      <td>0.505150</td>\n",
       "      <td>0.963622</td>\n",
       "      <td>0.395635</td>\n",
       "      <td>0.122220</td>\n",
       "      <td>0.465609</td>\n",
       "      <td>0.982982</td>\n",
       "      <td>0.230429</td>\n",
       "      <td>0.156762</td>\n",
       "      <td>0.697766</td>\n",
       "    </tr>\n",
       "    <tr>\n",
       "      <th>3</th>\n",
       "      <td>4.414857</td>\n",
       "      <td>0.619468</td>\n",
       "      <td>0.513852</td>\n",
       "      <td>0.957580</td>\n",
       "      <td>0.395213</td>\n",
       "      <td>0.123125</td>\n",
       "      <td>0.468241</td>\n",
       "      <td>0.986078</td>\n",
       "      <td>0.230588</td>\n",
       "      <td>0.157890</td>\n",
       "      <td>0.697445</td>\n",
       "    </tr>\n",
       "    <tr>\n",
       "      <th>4</th>\n",
       "      <td>4.410505</td>\n",
       "      <td>0.630693</td>\n",
       "      <td>0.524725</td>\n",
       "      <td>0.956709</td>\n",
       "      <td>0.399002</td>\n",
       "      <td>0.121245</td>\n",
       "      <td>0.469556</td>\n",
       "      <td>0.985820</td>\n",
       "      <td>0.230588</td>\n",
       "      <td>0.159243</td>\n",
       "      <td>0.699453</td>\n",
       "    </tr>\n",
       "  </tbody>\n",
       "</table>\n",
       "</div>"
      ],
      "text/plain": [
       "        NOX        AT        AP        AH      AFDP      GTEP       TIT  \\\n",
       "0  4.415486  0.612714  0.485558  0.971093  0.399532  0.114116  0.462977   \n",
       "1  4.416138  0.610119  0.496444  0.973847  0.399488  0.118663  0.464293   \n",
       "2  4.412410  0.614039  0.505150  0.963622  0.395635  0.122220  0.465609   \n",
       "3  4.414857  0.619468  0.513852  0.957580  0.395213  0.123125  0.468241   \n",
       "4  4.410505  0.630693  0.524725  0.956709  0.399002  0.121245  0.469556   \n",
       "\n",
       "        TAT       TEY       CDP        CO  \n",
       "0  0.986336  0.230269  0.157664  0.696080  \n",
       "1  0.986336  0.230588  0.156084  0.699023  \n",
       "2  0.982982  0.230429  0.156762  0.697766  \n",
       "3  0.986078  0.230588  0.157890  0.697445  \n",
       "4  0.985820  0.230588  0.159243  0.699453  "
      ]
     },
     "execution_count": 12,
     "metadata": {},
     "output_type": "execute_result"
    }
   ],
   "source": [
    "data.head()"
   ]
  },
  {
   "cell_type": "markdown",
   "id": "883989c7",
   "metadata": {},
   "source": [
    "# Feature selection"
   ]
  },
  {
   "cell_type": "code",
   "execution_count": 13,
   "id": "76c9c73c",
   "metadata": {},
   "outputs": [
    {
     "data": {
      "image/png": "[encoded data removed]",
      "text/plain": [
       "<Figure size 864x864 with 2 Axes>"
      ]
     },
     "metadata": {
      "needs_background": "light"
     },
     "output_type": "display_data"
    }
   ],
   "source": [
    "corr_mat = data.corr()\n",
    "top_corr_features = corr_mat.index\n",
    "plt.figure(figsize =(12,12))\n",
    "g= sns.heatmap(data[top_corr_features].corr(),annot=True,cmap='RdYlGn')"
   ]
  },
  {
   "cell_type": "code",
   "execution_count": 14,
   "id": "8c6f0b78",
   "metadata": {},
   "outputs": [],
   "source": [
    "df=data.copy()"
   ]
  },
  {
   "cell_type": "code",
   "execution_count": 15,
   "id": "0bf8580d",
   "metadata": {},
   "outputs": [],
   "source": [
    "df.drop(axis=1,columns=['TIT','TEY','CDP'],inplace=True)"
   ]
  },
  {
   "cell_type": "markdown",
   "id": "45671abb",
   "metadata": {},
   "source": [
    "# Spliting data into train and test"
   ]
  },
  {
   "cell_type": "code",
   "execution_count": 18,
   "id": "b212fcb6",
   "metadata": {},
   "outputs": [],
   "source": [
    "y=df.pop('NOX')\n",
    "X=df.copy()"
   ]
  },
  {
   "cell_type": "code",
   "execution_count": 54,
   "id": "10ae20fe",
   "metadata": {},
   "outputs": [],
   "source": [
    "from sklearn.model_selection import train_test_split\n",
    "X_train, X_test, y_train, y_test = train_test_split(X,y, test_size =0.20, random_state=42)"
   ]
  },
  {
   "cell_type": "markdown",
   "id": "4577be63",
   "metadata": {},
   "source": [
    "# Models\n",
    "1. ANN\n",
    "2. linear Regression\n",
    "3. Polynomial regression\n",
    "4. Random Forest Regressor"
   ]
  },
  {
   "cell_type": "markdown",
   "id": "0de73c4f",
   "metadata": {},
   "source": [
    "### ANN"
   ]
  },
  {
   "cell_type": "code",
   "execution_count": 58,
   "id": "e4d4f56f",
   "metadata": {},
   "outputs": [],
   "source": [
    "def build_model(hp):\n",
    "    model = keras.Sequential()\n",
    "    for i in range (hp.Int('num_layers',2,20)):\n",
    "        model.add(layers.Dense(units = hp.Int('units_'+str(i), min_value=32, max_value=512, step=32), activation='relu'))\n",
    "    model.add(layers.Dense(1, activation ='linear'))\n",
    "    model.compile(\n",
    "    optimizer=keras.optimizers.Adam(\n",
    "        hp.Choice('learning_rate',[1e-2,1e-3,1e-4])),                    #choice chooses between the given values\n",
    "    loss= 'mean_squared_error',\n",
    "    metrics = ['mean_squared_error'])\n",
    "    return model  #INT try with different values itself"
   ]
  },
  {
   "cell_type": "code",
   "execution_count": 59,
   "id": "4c1cf651",
   "metadata": {},
   "outputs": [],
   "source": [
    "tuner = RandomSearch(build_model,\n",
    "                     objective ='val_mean_squared_error',\n",
    "                     max_trials=4,\n",
    "                     executions_per_trial =3,\n",
    "                     directory ='proj',\n",
    "                     project_name = 'compo')"
   ]
  },
  {
   "cell_type": "code",
   "execution_count": 60,
   "id": "b036750a",
   "metadata": {},
   "outputs": [
    {
     "name": "stdout",
     "output_type": "stream",
     "text": [
      "Search space summary\n",
      "Default search space size: 4\n",
      "num_layers (Int)\n",
      "{'default': None, 'conditions': [], 'min_value': 2, 'max_value': 20, 'step': 1, 'sampling': None}\n",
      "units_0 (Int)\n",
      "{'default': None, 'conditions': [], 'min_value': 32, 'max_value': 512, 'step': 32, 'sampling': None}\n",
      "units_1 (Int)\n",
      "{'default': None, 'conditions': [], 'min_value': 32, 'max_value': 512, 'step': 32, 'sampling': None}\n",
      "learning_rate (Choice)\n",
      "{'default': 0.01, 'conditions': [], 'values': [0.01, 0.001, 0.0001], 'ordered': True}\n"
     ]
    }
   ],
   "source": [
    "tuner.search_space_summary()"
   ]
  },
  {
   "cell_type": "code",
   "execution_count": 61,
   "id": "5456d592",
   "metadata": {},
   "outputs": [
    {
     "name": "stdout",
     "output_type": "stream",
     "text": [
      "Trial 4 Complete [00h 03m 33s]\n",
      "val_mean_squared_error: 0.0034553532022982836\n",
      "\n",
      "Best val_mean_squared_error So Far: 0.00248790990250806\n",
      "Total elapsed time: 00h 11m 41s\n",
      "INFO:tensorflow:Oracle triggered exit\n"
     ]
    }
   ],
   "source": [
    "tuner.search(X_train, y_train,\n",
    "    validation_split=0.2, epochs=50)"
   ]
  },
  {
   "cell_type": "code",
   "execution_count": 63,
   "id": "4618fcfa",
   "metadata": {},
   "outputs": [
    {
     "name": "stdout",
     "output_type": "stream",
     "text": [
      "Results summary\n",
      "Results in proj\\compo\n",
      "Showing 10 best trials\n",
      "Objective(name='val_mean_squared_error', direction='min')\n",
      "Trial summary\n",
      "Hyperparameters:\n",
      "num_layers: 13\n",
      "units_0: 352\n",
      "units_1: 320\n",
      "learning_rate: 0.001\n",
      "units_2: 256\n",
      "units_3: 416\n",
      "units_4: 416\n",
      "units_5: 352\n",
      "units_6: 64\n",
      "units_7: 256\n",
      "units_8: 160\n",
      "units_9: 224\n",
      "units_10: 256\n",
      "units_11: 320\n",
      "units_12: 256\n",
      "units_13: 128\n",
      "Score: 0.00248790990250806\n",
      "Trial summary\n",
      "Hyperparameters:\n",
      "num_layers: 8\n",
      "units_0: 448\n",
      "units_1: 128\n",
      "learning_rate: 0.01\n",
      "units_2: 128\n",
      "units_3: 384\n",
      "units_4: 384\n",
      "units_5: 384\n",
      "units_6: 160\n",
      "units_7: 160\n",
      "units_8: 384\n",
      "units_9: 192\n",
      "units_10: 64\n",
      "units_11: 448\n",
      "units_12: 96\n",
      "units_13: 96\n",
      "Score: 0.0034553532022982836\n",
      "Trial summary\n",
      "Hyperparameters:\n",
      "num_layers: 14\n",
      "units_0: 320\n",
      "units_1: 32\n",
      "learning_rate: 0.0001\n",
      "units_2: 32\n",
      "units_3: 32\n",
      "units_4: 32\n",
      "units_5: 32\n",
      "units_6: 32\n",
      "units_7: 32\n",
      "units_8: 32\n",
      "units_9: 32\n",
      "units_10: 32\n",
      "units_11: 32\n",
      "units_12: 32\n",
      "units_13: 32\n",
      "Score: 0.004451127101977666\n",
      "Trial summary\n",
      "Hyperparameters:\n",
      "num_layers: 3\n",
      "units_0: 128\n",
      "units_1: 96\n",
      "learning_rate: 0.0001\n",
      "units_2: 352\n",
      "units_3: 224\n",
      "units_4: 320\n",
      "units_5: 224\n",
      "units_6: 192\n",
      "units_7: 160\n",
      "units_8: 448\n",
      "units_9: 288\n",
      "units_10: 384\n",
      "units_11: 128\n",
      "units_12: 416\n",
      "units_13: 352\n",
      "Score: 0.005366091461231311\n"
     ]
    }
   ],
   "source": [
    "tuner.results_summary()"
   ]
  },
  {
   "cell_type": "code",
   "execution_count": 99,
   "id": "6c01b76f",
   "metadata": {},
   "outputs": [],
   "source": [
    "def build_and_compile_model(norm):\n",
    "    model = keras.Sequential([\n",
    "    norm,\n",
    "    layers.Dense(352, activation='relu'), #0\n",
    "    layers.Dense(320, activation='relu'),  #1\n",
    "    layers.Dense(256, activation='relu'),   #2\n",
    "    layers.Dense(416, activation='relu'),   #3\n",
    "    layers.Dense(416, activation='relu'),    #4 \n",
    "    layers.Dense(352, activation='relu'),   #5\n",
    "    layers.Dense(64, activation='relu'),   #6\n",
    "    layers.Dense(256, activation='relu'), #7\n",
    "    layers.Dense(160, activation='relu'), #8\n",
    "    layers.Dense(224, activation='relu'), #9\n",
    "    layers.Dense(256, activation='relu'), #10\n",
    "    layers.Dense(320, activation='relu'), #11\n",
    "    layers.Dense(64, activation='relu'), #12\n",
    "    layers.Dense(1, activation='linear')\n",
    "    ])\n",
    "    model.compile(loss='mean_squared_error',\n",
    "      optimizer=tf.keras.optimizers.Adam(0.001))\n",
    "    return model"
   ]
  },
  {
   "cell_type": "code",
   "execution_count": 100,
   "id": "1174d72f",
   "metadata": {},
   "outputs": [],
   "source": [
    "normalizer = preprocessing.Normalization()\n",
    "normalizer.adapt(np.array(X_train))"
   ]
  },
  {
   "cell_type": "code",
   "execution_count": 183,
   "id": "b9db02c2",
   "metadata": {},
   "outputs": [],
   "source": [
    "model = build_and_compile_model(normalizer)"
   ]
  },
  {
   "cell_type": "code",
   "execution_count": 185,
   "id": "875233b2",
   "metadata": {},
   "outputs": [
    {
     "name": "stdout",
     "output_type": "stream",
     "text": [
      "Epoch 1/500\n",
      "98/98 - 7s - loss: 2.7692 - val_loss: 0.1339 - 7s/epoch - 71ms/step\n",
      "Epoch 2/500\n",
      "98/98 - 2s - loss: 0.0647 - val_loss: 0.0280 - 2s/epoch - 17ms/step\n",
      "Epoch 3/500\n",
      "98/98 - 2s - loss: 0.0186 - val_loss: 0.0121 - 2s/epoch - 18ms/step\n",
      "Epoch 4/500\n",
      "98/98 - 2s - loss: 0.0085 - val_loss: 0.0076 - 2s/epoch - 17ms/step\n",
      "Epoch 5/500\n",
      "98/98 - 2s - loss: 0.0057 - val_loss: 0.0062 - 2s/epoch - 18ms/step\n",
      "Epoch 6/500\n",
      "98/98 - 2s - loss: 0.0043 - val_loss: 0.0043 - 2s/epoch - 17ms/step\n",
      "Epoch 7/500\n",
      "98/98 - 2s - loss: 0.0033 - val_loss: 0.0044 - 2s/epoch - 18ms/step\n",
      "Epoch 8/500\n",
      "98/98 - 2s - loss: 0.0031 - val_loss: 0.0031 - 2s/epoch - 17ms/step\n",
      "Epoch 9/500\n",
      "98/98 - 2s - loss: 0.0029 - val_loss: 0.0032 - 2s/epoch - 18ms/step\n",
      "Epoch 10/500\n",
      "98/98 - 2s - loss: 0.0026 - val_loss: 0.0030 - 2s/epoch - 18ms/step\n",
      "Epoch 11/500\n",
      "98/98 - 2s - loss: 0.0027 - val_loss: 0.0033 - 2s/epoch - 18ms/step\n",
      "Epoch 12/500\n",
      "98/98 - 2s - loss: 0.0027 - val_loss: 0.0032 - 2s/epoch - 17ms/step\n",
      "Epoch 13/500\n",
      "98/98 - 2s - loss: 0.0023 - val_loss: 0.0033 - 2s/epoch - 18ms/step\n",
      "Epoch 14/500\n",
      "98/98 - 2s - loss: 0.0024 - val_loss: 0.0027 - 2s/epoch - 17ms/step\n",
      "Epoch 15/500\n",
      "98/98 - 2s - loss: 0.0020 - val_loss: 0.0027 - 2s/epoch - 17ms/step\n",
      "Epoch 16/500\n",
      "98/98 - 2s - loss: 0.0030 - val_loss: 0.0026 - 2s/epoch - 18ms/step\n",
      "Epoch 17/500\n",
      "98/98 - 2s - loss: 0.0022 - val_loss: 0.0026 - 2s/epoch - 18ms/step\n",
      "Epoch 18/500\n",
      "98/98 - 2s - loss: 0.0029 - val_loss: 0.0027 - 2s/epoch - 19ms/step\n",
      "Epoch 19/500\n",
      "98/98 - 2s - loss: 0.0033 - val_loss: 0.0027 - 2s/epoch - 17ms/step\n",
      "Epoch 20/500\n",
      "98/98 - 2s - loss: 0.0024 - val_loss: 0.0057 - 2s/epoch - 18ms/step\n",
      "Epoch 21/500\n",
      "98/98 - 2s - loss: 0.0024 - val_loss: 0.0023 - 2s/epoch - 18ms/step\n",
      "Epoch 22/500\n",
      "98/98 - 2s - loss: 0.0022 - val_loss: 0.0039 - 2s/epoch - 18ms/step\n",
      "Epoch 23/500\n",
      "98/98 - 2s - loss: 0.0028 - val_loss: 0.0022 - 2s/epoch - 18ms/step\n",
      "Epoch 24/500\n",
      "98/98 - 2s - loss: 0.0025 - val_loss: 0.0048 - 2s/epoch - 18ms/step\n",
      "Epoch 25/500\n",
      "98/98 - 2s - loss: 0.0021 - val_loss: 0.0021 - 2s/epoch - 18ms/step\n",
      "Epoch 26/500\n",
      "98/98 - 2s - loss: 0.0017 - val_loss: 0.0037 - 2s/epoch - 18ms/step\n",
      "Epoch 27/500\n",
      "98/98 - 2s - loss: 0.0019 - val_loss: 0.0038 - 2s/epoch - 18ms/step\n",
      "Epoch 28/500\n",
      "98/98 - 2s - loss: 0.0023 - val_loss: 0.0023 - 2s/epoch - 17ms/step\n",
      "Epoch 29/500\n",
      "98/98 - 2s - loss: 0.0020 - val_loss: 0.0043 - 2s/epoch - 19ms/step\n",
      "Epoch 30/500\n",
      "98/98 - 2s - loss: 0.0022 - val_loss: 0.0053 - 2s/epoch - 18ms/step\n",
      "Epoch 31/500\n",
      "98/98 - 2s - loss: 0.0022 - val_loss: 0.0024 - 2s/epoch - 18ms/step\n",
      "Epoch 32/500\n",
      "98/98 - 2s - loss: 0.0018 - val_loss: 0.0054 - 2s/epoch - 19ms/step\n",
      "Epoch 33/500\n",
      "98/98 - 2s - loss: 0.0027 - val_loss: 0.0022 - 2s/epoch - 18ms/step\n",
      "Epoch 34/500\n",
      "98/98 - 2s - loss: 0.0021 - val_loss: 0.0026 - 2s/epoch - 18ms/step\n",
      "Epoch 35/500\n",
      "98/98 - 2s - loss: 0.0023 - val_loss: 0.0023 - 2s/epoch - 18ms/step\n",
      "Epoch 36/500\n",
      "98/98 - 2s - loss: 0.0037 - val_loss: 0.0032 - 2s/epoch - 18ms/step\n",
      "Epoch 37/500\n",
      "98/98 - 2s - loss: 0.0032 - val_loss: 0.0025 - 2s/epoch - 17ms/step\n",
      "Epoch 38/500\n",
      "98/98 - 2s - loss: 0.0021 - val_loss: 0.0024 - 2s/epoch - 17ms/step\n",
      "Epoch 39/500\n",
      "98/98 - 2s - loss: 0.0020 - val_loss: 0.0026 - 2s/epoch - 19ms/step\n",
      "Epoch 40/500\n",
      "98/98 - 2s - loss: 0.0018 - val_loss: 0.0021 - 2s/epoch - 19ms/step\n",
      "Epoch 41/500\n",
      "98/98 - 2s - loss: 0.0018 - val_loss: 0.0019 - 2s/epoch - 18ms/step\n",
      "Epoch 42/500\n",
      "98/98 - 2s - loss: 0.0020 - val_loss: 0.0028 - 2s/epoch - 19ms/step\n",
      "Epoch 43/500\n",
      "98/98 - 2s - loss: 0.0026 - val_loss: 0.0054 - 2s/epoch - 18ms/step\n",
      "Epoch 44/500\n",
      "98/98 - 2s - loss: 0.0024 - val_loss: 0.0038 - 2s/epoch - 19ms/step\n",
      "Epoch 45/500\n",
      "98/98 - 2s - loss: 0.0021 - val_loss: 0.0022 - 2s/epoch - 18ms/step\n",
      "Epoch 46/500\n",
      "98/98 - 2s - loss: 0.0025 - val_loss: 0.0034 - 2s/epoch - 17ms/step\n",
      "Epoch 47/500\n",
      "98/98 - 2s - loss: 0.0023 - val_loss: 0.0049 - 2s/epoch - 17ms/step\n",
      "Epoch 48/500\n",
      "98/98 - 2s - loss: 0.0030 - val_loss: 0.0035 - 2s/epoch - 18ms/step\n",
      "Epoch 49/500\n",
      "98/98 - 2s - loss: 0.0021 - val_loss: 0.0036 - 2s/epoch - 17ms/step\n",
      "Epoch 50/500\n",
      "98/98 - 2s - loss: 0.0024 - val_loss: 0.0051 - 2s/epoch - 19ms/step\n",
      "Epoch 51/500\n",
      "98/98 - 2s - loss: 0.0020 - val_loss: 0.0026 - 2s/epoch - 18ms/step\n",
      "Epoch 52/500\n",
      "98/98 - 2s - loss: 0.0018 - val_loss: 0.0021 - 2s/epoch - 19ms/step\n",
      "Epoch 53/500\n",
      "98/98 - 2s - loss: 0.0018 - val_loss: 0.0072 - 2s/epoch - 18ms/step\n",
      "Epoch 54/500\n",
      "98/98 - 2s - loss: 0.0023 - val_loss: 0.0036 - 2s/epoch - 19ms/step\n",
      "Epoch 55/500\n",
      "98/98 - 2s - loss: 0.0021 - val_loss: 0.0036 - 2s/epoch - 18ms/step\n",
      "Epoch 56/500\n",
      "98/98 - 2s - loss: 0.0022 - val_loss: 0.0028 - 2s/epoch - 18ms/step\n",
      "Epoch 57/500\n",
      "98/98 - 2s - loss: 0.0024 - val_loss: 0.0079 - 2s/epoch - 18ms/step\n",
      "Epoch 58/500\n",
      "98/98 - 2s - loss: 0.0025 - val_loss: 0.0023 - 2s/epoch - 17ms/step\n",
      "Epoch 59/500\n",
      "98/98 - 2s - loss: 0.0023 - val_loss: 0.0038 - 2s/epoch - 18ms/step\n",
      "Epoch 60/500\n",
      "98/98 - 2s - loss: 0.0022 - val_loss: 0.0029 - 2s/epoch - 18ms/step\n",
      "Epoch 61/500\n",
      "98/98 - 2s - loss: 0.0024 - val_loss: 0.0020 - 2s/epoch - 17ms/step\n",
      "Epoch 62/500\n",
      "98/98 - 2s - loss: 0.0019 - val_loss: 0.0079 - 2s/epoch - 18ms/step\n",
      "Epoch 63/500\n",
      "98/98 - 2s - loss: 0.0036 - val_loss: 0.0035 - 2s/epoch - 17ms/step\n",
      "Epoch 64/500\n",
      "98/98 - 2s - loss: 0.0018 - val_loss: 0.0019 - 2s/epoch - 18ms/step\n",
      "Epoch 65/500\n",
      "98/98 - 2s - loss: 0.0015 - val_loss: 0.0020 - 2s/epoch - 17ms/step\n",
      "Epoch 66/500\n",
      "98/98 - 2s - loss: 0.0021 - val_loss: 0.0028 - 2s/epoch - 18ms/step\n",
      "Epoch 67/500\n",
      "98/98 - 2s - loss: 0.0019 - val_loss: 0.0031 - 2s/epoch - 18ms/step\n",
      "Epoch 68/500\n",
      "98/98 - 2s - loss: 0.0019 - val_loss: 0.0026 - 2s/epoch - 18ms/step\n",
      "Epoch 69/500\n",
      "98/98 - 2s - loss: 0.0019 - val_loss: 0.0021 - 2s/epoch - 18ms/step\n",
      "Epoch 70/500\n",
      "98/98 - 2s - loss: 0.0020 - val_loss: 0.0038 - 2s/epoch - 18ms/step\n",
      "Epoch 71/500\n",
      "98/98 - 2s - loss: 0.0019 - val_loss: 0.0048 - 2s/epoch - 18ms/step\n",
      "Epoch 72/500\n",
      "98/98 - 2s - loss: 0.0023 - val_loss: 0.0023 - 2s/epoch - 18ms/step\n",
      "Epoch 73/500\n",
      "98/98 - 2s - loss: 0.0022 - val_loss: 0.0019 - 2s/epoch - 18ms/step\n",
      "Epoch 74/500\n",
      "98/98 - 2s - loss: 0.0022 - val_loss: 0.0021 - 2s/epoch - 17ms/step\n",
      "Epoch 75/500\n",
      "98/98 - 2s - loss: 0.0018 - val_loss: 0.0020 - 2s/epoch - 18ms/step\n",
      "Epoch 76/500\n",
      "98/98 - 2s - loss: 0.0019 - val_loss: 0.0023 - 2s/epoch - 18ms/step\n",
      "Epoch 77/500\n",
      "98/98 - 2s - loss: 0.0020 - val_loss: 0.0021 - 2s/epoch - 18ms/step\n",
      "Epoch 78/500\n",
      "98/98 - 2s - loss: 0.0018 - val_loss: 0.0030 - 2s/epoch - 18ms/step\n",
      "Epoch 79/500\n",
      "98/98 - 2s - loss: 0.0019 - val_loss: 0.0029 - 2s/epoch - 18ms/step\n",
      "Epoch 80/500\n",
      "98/98 - 2s - loss: 0.0019 - val_loss: 0.0028 - 2s/epoch - 17ms/step\n",
      "Epoch 81/500\n",
      "98/98 - 2s - loss: 0.0026 - val_loss: 0.0034 - 2s/epoch - 18ms/step\n",
      "Epoch 82/500\n",
      "98/98 - 2s - loss: 0.0019 - val_loss: 0.0020 - 2s/epoch - 17ms/step\n",
      "Epoch 83/500\n",
      "98/98 - 2s - loss: 0.0014 - val_loss: 0.0051 - 2s/epoch - 17ms/step\n",
      "Epoch 84/500\n",
      "98/98 - 2s - loss: 0.0021 - val_loss: 0.0021 - 2s/epoch - 17ms/step\n",
      "Epoch 85/500\n",
      "98/98 - 2s - loss: 0.0020 - val_loss: 0.0021 - 2s/epoch - 18ms/step\n",
      "Epoch 86/500\n",
      "98/98 - 2s - loss: 0.0016 - val_loss: 0.0028 - 2s/epoch - 18ms/step\n",
      "Epoch 87/500\n",
      "98/98 - 2s - loss: 0.0020 - val_loss: 0.0021 - 2s/epoch - 18ms/step\n",
      "Epoch 88/500\n",
      "98/98 - 2s - loss: 0.0014 - val_loss: 0.0043 - 2s/epoch - 18ms/step\n",
      "Epoch 89/500\n",
      "98/98 - 2s - loss: 0.0022 - val_loss: 0.0022 - 2s/epoch - 18ms/step\n",
      "Epoch 90/500\n",
      "98/98 - 2s - loss: 0.0018 - val_loss: 0.0025 - 2s/epoch - 18ms/step\n",
      "Epoch 91/500\n",
      "98/98 - 2s - loss: 0.0016 - val_loss: 0.0027 - 2s/epoch - 18ms/step\n",
      "Epoch 92/500\n",
      "98/98 - 2s - loss: 0.0014 - val_loss: 0.0031 - 2s/epoch - 18ms/step\n",
      "Epoch 93/500\n",
      "98/98 - 2s - loss: 0.0025 - val_loss: 0.0029 - 2s/epoch - 18ms/step\n",
      "Epoch 94/500\n",
      "98/98 - 2s - loss: 0.0020 - val_loss: 0.0043 - 2s/epoch - 18ms/step\n",
      "Epoch 95/500\n",
      "98/98 - 2s - loss: 0.0018 - val_loss: 0.0024 - 2s/epoch - 18ms/step\n",
      "Epoch 96/500\n",
      "98/98 - 2s - loss: 0.0017 - val_loss: 0.0021 - 2s/epoch - 18ms/step\n",
      "Epoch 97/500\n",
      "98/98 - 2s - loss: 0.0026 - val_loss: 0.0041 - 2s/epoch - 18ms/step\n",
      "Epoch 98/500\n",
      "98/98 - 2s - loss: 0.0019 - val_loss: 0.0059 - 2s/epoch - 18ms/step\n",
      "Epoch 99/500\n",
      "98/98 - 2s - loss: 0.0018 - val_loss: 0.0020 - 2s/epoch - 18ms/step\n",
      "Epoch 100/500\n",
      "98/98 - 2s - loss: 0.0014 - val_loss: 0.0023 - 2s/epoch - 17ms/step\n",
      "Epoch 101/500\n",
      "98/98 - 2s - loss: 0.0013 - val_loss: 0.0059 - 2s/epoch - 17ms/step\n",
      "Epoch 102/500\n",
      "98/98 - 2s - loss: 0.0018 - val_loss: 0.0020 - 2s/epoch - 18ms/step\n"
     ]
    },
    {
     "name": "stdout",
     "output_type": "stream",
     "text": [
      "Epoch 103/500\n",
      "98/98 - 2s - loss: 0.0013 - val_loss: 0.0022 - 2s/epoch - 18ms/step\n",
      "Epoch 104/500\n",
      "98/98 - 2s - loss: 0.0015 - val_loss: 0.0021 - 2s/epoch - 18ms/step\n",
      "Epoch 105/500\n",
      "98/98 - 2s - loss: 0.0013 - val_loss: 0.0020 - 2s/epoch - 18ms/step\n",
      "Epoch 106/500\n",
      "98/98 - 2s - loss: 0.0025 - val_loss: 0.0028 - 2s/epoch - 18ms/step\n",
      "Epoch 107/500\n",
      "98/98 - 2s - loss: 0.0018 - val_loss: 0.0021 - 2s/epoch - 18ms/step\n",
      "Epoch 108/500\n",
      "98/98 - 2s - loss: 0.0012 - val_loss: 0.0033 - 2s/epoch - 17ms/step\n",
      "Epoch 109/500\n",
      "98/98 - 2s - loss: 0.0019 - val_loss: 0.0027 - 2s/epoch - 18ms/step\n",
      "Epoch 110/500\n",
      "98/98 - 2s - loss: 0.0015 - val_loss: 0.0020 - 2s/epoch - 18ms/step\n",
      "Epoch 111/500\n",
      "98/98 - 2s - loss: 0.0013 - val_loss: 0.0025 - 2s/epoch - 18ms/step\n",
      "Epoch 112/500\n",
      "98/98 - 2s - loss: 0.0021 - val_loss: 0.0028 - 2s/epoch - 18ms/step\n",
      "Epoch 113/500\n",
      "98/98 - 2s - loss: 0.0017 - val_loss: 0.0025 - 2s/epoch - 18ms/step\n",
      "Epoch 114/500\n",
      "98/98 - 2s - loss: 0.0013 - val_loss: 0.0024 - 2s/epoch - 18ms/step\n",
      "Epoch 115/500\n",
      "98/98 - 2s - loss: 0.0012 - val_loss: 0.0021 - 2s/epoch - 18ms/step\n",
      "Epoch 116/500\n",
      "98/98 - 2s - loss: 0.0012 - val_loss: 0.0023 - 2s/epoch - 18ms/step\n",
      "Epoch 117/500\n",
      "98/98 - 2s - loss: 0.0013 - val_loss: 0.0025 - 2s/epoch - 18ms/step\n",
      "Epoch 118/500\n",
      "98/98 - 2s - loss: 0.0015 - val_loss: 0.0046 - 2s/epoch - 18ms/step\n",
      "Epoch 119/500\n",
      "98/98 - 2s - loss: 0.0026 - val_loss: 0.0027 - 2s/epoch - 17ms/step\n",
      "Epoch 120/500\n",
      "98/98 - 2s - loss: 0.0014 - val_loss: 0.0021 - 2s/epoch - 18ms/step\n",
      "Epoch 121/500\n",
      "98/98 - 2s - loss: 0.0012 - val_loss: 0.0020 - 2s/epoch - 18ms/step\n",
      "Epoch 122/500\n",
      "98/98 - 2s - loss: 0.0017 - val_loss: 0.0025 - 2s/epoch - 18ms/step\n",
      "Epoch 123/500\n",
      "98/98 - 2s - loss: 0.0015 - val_loss: 0.0023 - 2s/epoch - 18ms/step\n",
      "Epoch 124/500\n",
      "98/98 - 2s - loss: 0.0013 - val_loss: 0.0023 - 2s/epoch - 18ms/step\n",
      "Epoch 125/500\n",
      "98/98 - 2s - loss: 0.0011 - val_loss: 0.0020 - 2s/epoch - 18ms/step\n",
      "Epoch 126/500\n",
      "98/98 - 2s - loss: 0.0013 - val_loss: 0.0020 - 2s/epoch - 18ms/step\n",
      "Epoch 127/500\n",
      "98/98 - 2s - loss: 0.0011 - val_loss: 0.0024 - 2s/epoch - 18ms/step\n",
      "Epoch 128/500\n",
      "98/98 - 2s - loss: 0.0012 - val_loss: 0.0027 - 2s/epoch - 17ms/step\n",
      "Epoch 129/500\n",
      "98/98 - 2s - loss: 0.0013 - val_loss: 0.0021 - 2s/epoch - 17ms/step\n",
      "Epoch 130/500\n",
      "98/98 - 2s - loss: 0.0013 - val_loss: 0.0022 - 2s/epoch - 18ms/step\n",
      "Epoch 131/500\n",
      "98/98 - 2s - loss: 9.8286e-04 - val_loss: 0.0022 - 2s/epoch - 18ms/step\n",
      "Epoch 132/500\n",
      "98/98 - 2s - loss: 0.0012 - val_loss: 0.0022 - 2s/epoch - 18ms/step\n",
      "Epoch 133/500\n",
      "98/98 - 2s - loss: 0.0013 - val_loss: 0.0023 - 2s/epoch - 18ms/step\n",
      "Epoch 134/500\n",
      "98/98 - 2s - loss: 0.0011 - val_loss: 0.0029 - 2s/epoch - 17ms/step\n",
      "Epoch 135/500\n",
      "98/98 - 2s - loss: 0.0012 - val_loss: 0.0029 - 2s/epoch - 18ms/step\n",
      "Epoch 136/500\n",
      "98/98 - 2s - loss: 0.0018 - val_loss: 0.0029 - 2s/epoch - 18ms/step\n",
      "Epoch 137/500\n",
      "98/98 - 2s - loss: 0.0012 - val_loss: 0.0027 - 2s/epoch - 18ms/step\n",
      "Epoch 138/500\n",
      "98/98 - 2s - loss: 0.0012 - val_loss: 0.0023 - 2s/epoch - 18ms/step\n",
      "Epoch 139/500\n",
      "98/98 - 2s - loss: 0.0013 - val_loss: 0.0028 - 2s/epoch - 18ms/step\n",
      "Epoch 140/500\n",
      "98/98 - 2s - loss: 8.9723e-04 - val_loss: 0.0027 - 2s/epoch - 18ms/step\n",
      "Epoch 141/500\n",
      "98/98 - 2s - loss: 0.0013 - val_loss: 0.0022 - 2s/epoch - 18ms/step\n",
      "Epoch 142/500\n",
      "98/98 - 2s - loss: 0.0013 - val_loss: 0.0021 - 2s/epoch - 18ms/step\n",
      "Epoch 143/500\n",
      "98/98 - 2s - loss: 9.2781e-04 - val_loss: 0.0021 - 2s/epoch - 18ms/step\n",
      "Epoch 144/500\n",
      "98/98 - 2s - loss: 9.2882e-04 - val_loss: 0.0019 - 2s/epoch - 18ms/step\n",
      "Epoch 145/500\n",
      "98/98 - 2s - loss: 0.0010 - val_loss: 0.0032 - 2s/epoch - 18ms/step\n",
      "Epoch 146/500\n",
      "98/98 - 2s - loss: 0.0012 - val_loss: 0.0023 - 2s/epoch - 18ms/step\n",
      "Epoch 147/500\n",
      "98/98 - 2s - loss: 0.0012 - val_loss: 0.0021 - 2s/epoch - 18ms/step\n",
      "Epoch 148/500\n",
      "98/98 - 2s - loss: 0.0015 - val_loss: 0.0021 - 2s/epoch - 18ms/step\n",
      "Epoch 149/500\n",
      "98/98 - 2s - loss: 0.0010 - val_loss: 0.0021 - 2s/epoch - 18ms/step\n",
      "Epoch 150/500\n",
      "98/98 - 2s - loss: 0.0012 - val_loss: 0.0025 - 2s/epoch - 17ms/step\n",
      "Epoch 151/500\n",
      "98/98 - 2s - loss: 8.6488e-04 - val_loss: 0.0022 - 2s/epoch - 17ms/step\n",
      "Epoch 152/500\n",
      "98/98 - 2s - loss: 8.0872e-04 - val_loss: 0.0021 - 2s/epoch - 18ms/step\n",
      "Epoch 153/500\n",
      "98/98 - 2s - loss: 0.0010 - val_loss: 0.0026 - 2s/epoch - 18ms/step\n",
      "Epoch 154/500\n",
      "98/98 - 2s - loss: 8.8447e-04 - val_loss: 0.0020 - 2s/epoch - 17ms/step\n",
      "Epoch 155/500\n",
      "98/98 - 2s - loss: 0.0010 - val_loss: 0.0021 - 2s/epoch - 17ms/step\n",
      "Epoch 156/500\n",
      "98/98 - 2s - loss: 0.0013 - val_loss: 0.0030 - 2s/epoch - 18ms/step\n",
      "Epoch 157/500\n",
      "98/98 - 2s - loss: 0.0018 - val_loss: 0.0025 - 2s/epoch - 18ms/step\n",
      "Epoch 158/500\n",
      "98/98 - 2s - loss: 0.0014 - val_loss: 0.0021 - 2s/epoch - 18ms/step\n",
      "Epoch 159/500\n",
      "98/98 - 2s - loss: 0.0016 - val_loss: 0.0028 - 2s/epoch - 17ms/step\n",
      "Epoch 160/500\n",
      "98/98 - 2s - loss: 7.9782e-04 - val_loss: 0.0021 - 2s/epoch - 17ms/step\n",
      "Epoch 161/500\n",
      "98/98 - 2s - loss: 0.0011 - val_loss: 0.0020 - 2s/epoch - 18ms/step\n",
      "Epoch 162/500\n",
      "98/98 - 2s - loss: 8.8134e-04 - val_loss: 0.0027 - 2s/epoch - 18ms/step\n",
      "Epoch 163/500\n",
      "98/98 - 2s - loss: 8.3595e-04 - val_loss: 0.0027 - 2s/epoch - 18ms/step\n",
      "Epoch 164/500\n",
      "98/98 - 2s - loss: 7.8700e-04 - val_loss: 0.0021 - 2s/epoch - 18ms/step\n",
      "Epoch 165/500\n",
      "98/98 - 2s - loss: 6.5080e-04 - val_loss: 0.0021 - 2s/epoch - 18ms/step\n",
      "Epoch 166/500\n",
      "98/98 - 2s - loss: 8.1873e-04 - val_loss: 0.0018 - 2s/epoch - 18ms/step\n",
      "Epoch 167/500\n",
      "98/98 - 2s - loss: 8.8661e-04 - val_loss: 0.0030 - 2s/epoch - 18ms/step\n",
      "Epoch 168/500\n",
      "98/98 - 2s - loss: 7.7514e-04 - val_loss: 0.0021 - 2s/epoch - 17ms/step\n",
      "Epoch 169/500\n",
      "98/98 - 2s - loss: 8.9357e-04 - val_loss: 0.0021 - 2s/epoch - 17ms/step\n",
      "Epoch 170/500\n",
      "98/98 - 2s - loss: 9.0018e-04 - val_loss: 0.0032 - 2s/epoch - 18ms/step\n",
      "Epoch 171/500\n",
      "98/98 - 2s - loss: 0.0012 - val_loss: 0.0021 - 2s/epoch - 18ms/step\n",
      "Epoch 172/500\n",
      "98/98 - 2s - loss: 9.2399e-04 - val_loss: 0.0025 - 2s/epoch - 17ms/step\n",
      "Epoch 173/500\n",
      "98/98 - 2s - loss: 0.0010 - val_loss: 0.0021 - 2s/epoch - 18ms/step\n",
      "Epoch 174/500\n",
      "98/98 - 2s - loss: 7.5678e-04 - val_loss: 0.0020 - 2s/epoch - 18ms/step\n",
      "Epoch 175/500\n",
      "98/98 - 2s - loss: 7.4592e-04 - val_loss: 0.0021 - 2s/epoch - 17ms/step\n",
      "Epoch 176/500\n",
      "98/98 - 2s - loss: 9.8677e-04 - val_loss: 0.0024 - 2s/epoch - 18ms/step\n",
      "Epoch 177/500\n",
      "98/98 - 2s - loss: 7.2089e-04 - val_loss: 0.0019 - 2s/epoch - 18ms/step\n",
      "Epoch 178/500\n",
      "98/98 - 2s - loss: 6.4572e-04 - val_loss: 0.0020 - 2s/epoch - 18ms/step\n",
      "Epoch 179/500\n",
      "98/98 - 2s - loss: 9.8911e-04 - val_loss: 0.0022 - 2s/epoch - 18ms/step\n",
      "Epoch 180/500\n",
      "98/98 - 2s - loss: 9.6257e-04 - val_loss: 0.0022 - 2s/epoch - 18ms/step\n",
      "Epoch 181/500\n",
      "98/98 - 2s - loss: 8.0285e-04 - val_loss: 0.0024 - 2s/epoch - 18ms/step\n",
      "Epoch 182/500\n",
      "98/98 - 2s - loss: 9.2021e-04 - val_loss: 0.0023 - 2s/epoch - 18ms/step\n",
      "Epoch 183/500\n",
      "98/98 - 2s - loss: 6.2441e-04 - val_loss: 0.0019 - 2s/epoch - 18ms/step\n",
      "Epoch 184/500\n",
      "98/98 - 2s - loss: 8.8428e-04 - val_loss: 0.0025 - 2s/epoch - 18ms/step\n",
      "Epoch 185/500\n",
      "98/98 - 2s - loss: 7.7121e-04 - val_loss: 0.0030 - 2s/epoch - 17ms/step\n",
      "Epoch 186/500\n",
      "98/98 - 2s - loss: 0.0010 - val_loss: 0.0019 - 2s/epoch - 17ms/step\n",
      "Epoch 187/500\n",
      "98/98 - 2s - loss: 0.0011 - val_loss: 0.0020 - 2s/epoch - 18ms/step\n",
      "Epoch 188/500\n",
      "98/98 - 2s - loss: 7.3602e-04 - val_loss: 0.0025 - 2s/epoch - 18ms/step\n",
      "Epoch 189/500\n",
      "98/98 - 2s - loss: 6.1213e-04 - val_loss: 0.0026 - 2s/epoch - 17ms/step\n",
      "Epoch 190/500\n",
      "98/98 - 2s - loss: 7.1746e-04 - val_loss: 0.0019 - 2s/epoch - 18ms/step\n",
      "Epoch 191/500\n",
      "98/98 - 2s - loss: 5.9360e-04 - val_loss: 0.0024 - 2s/epoch - 18ms/step\n",
      "Epoch 192/500\n",
      "98/98 - 2s - loss: 0.0014 - val_loss: 0.0026 - 2s/epoch - 17ms/step\n",
      "Epoch 193/500\n",
      "98/98 - 2s - loss: 0.0010 - val_loss: 0.0022 - 2s/epoch - 17ms/step\n",
      "Epoch 194/500\n",
      "98/98 - 2s - loss: 6.4485e-04 - val_loss: 0.0021 - 2s/epoch - 18ms/step\n",
      "Epoch 195/500\n",
      "98/98 - 2s - loss: 5.5521e-04 - val_loss: 0.0022 - 2s/epoch - 18ms/step\n",
      "Epoch 196/500\n",
      "98/98 - 2s - loss: 5.4681e-04 - val_loss: 0.0020 - 2s/epoch - 18ms/step\n",
      "Epoch 197/500\n",
      "98/98 - 2s - loss: 5.8846e-04 - val_loss: 0.0021 - 2s/epoch - 18ms/step\n",
      "Epoch 198/500\n",
      "98/98 - 2s - loss: 5.8050e-04 - val_loss: 0.0022 - 2s/epoch - 17ms/step\n",
      "Epoch 199/500\n",
      "98/98 - 2s - loss: 6.7118e-04 - val_loss: 0.0023 - 2s/epoch - 18ms/step\n",
      "Epoch 200/500\n",
      "98/98 - 2s - loss: 7.6425e-04 - val_loss: 0.0021 - 2s/epoch - 20ms/step\n"
     ]
    },
    {
     "name": "stdout",
     "output_type": "stream",
     "text": [
      "Epoch 201/500\n",
      "98/98 - 2s - loss: 6.1818e-04 - val_loss: 0.0019 - 2s/epoch - 17ms/step\n",
      "Epoch 202/500\n",
      "98/98 - 2s - loss: 5.3882e-04 - val_loss: 0.0020 - 2s/epoch - 18ms/step\n",
      "Epoch 203/500\n",
      "98/98 - 2s - loss: 6.8111e-04 - val_loss: 0.0023 - 2s/epoch - 19ms/step\n",
      "Epoch 204/500\n",
      "98/98 - 2s - loss: 5.0931e-04 - val_loss: 0.0021 - 2s/epoch - 18ms/step\n",
      "Epoch 205/500\n",
      "98/98 - 2s - loss: 4.9736e-04 - val_loss: 0.0022 - 2s/epoch - 19ms/step\n",
      "Epoch 206/500\n",
      "98/98 - 2s - loss: 6.8385e-04 - val_loss: 0.0022 - 2s/epoch - 20ms/step\n",
      "Epoch 207/500\n",
      "98/98 - 2s - loss: 6.2132e-04 - val_loss: 0.0023 - 2s/epoch - 20ms/step\n",
      "Epoch 208/500\n",
      "98/98 - 2s - loss: 7.7813e-04 - val_loss: 0.0028 - 2s/epoch - 16ms/step\n",
      "Epoch 209/500\n",
      "98/98 - 2s - loss: 5.1629e-04 - val_loss: 0.0022 - 2s/epoch - 17ms/step\n",
      "Epoch 210/500\n",
      "98/98 - 2s - loss: 5.4073e-04 - val_loss: 0.0020 - 2s/epoch - 18ms/step\n",
      "Epoch 211/500\n",
      "98/98 - 2s - loss: 0.0010 - val_loss: 0.0027 - 2s/epoch - 19ms/step\n",
      "Epoch 212/500\n",
      "98/98 - 2s - loss: 0.0014 - val_loss: 0.0024 - 2s/epoch - 18ms/step\n",
      "Epoch 213/500\n",
      "98/98 - 2s - loss: 8.3833e-04 - val_loss: 0.0022 - 2s/epoch - 19ms/step\n",
      "Epoch 214/500\n",
      "98/98 - 2s - loss: 6.6245e-04 - val_loss: 0.0020 - 2s/epoch - 18ms/step\n",
      "Epoch 215/500\n",
      "98/98 - 2s - loss: 6.6571e-04 - val_loss: 0.0021 - 2s/epoch - 19ms/step\n",
      "Epoch 216/500\n",
      "98/98 - 2s - loss: 8.2829e-04 - val_loss: 0.0027 - 2s/epoch - 19ms/step\n",
      "Epoch 217/500\n",
      "98/98 - 2s - loss: 7.4325e-04 - val_loss: 0.0022 - 2s/epoch - 19ms/step\n",
      "Epoch 218/500\n",
      "98/98 - 2s - loss: 5.8270e-04 - val_loss: 0.0021 - 2s/epoch - 19ms/step\n",
      "Epoch 219/500\n",
      "98/98 - 2s - loss: 7.0868e-04 - val_loss: 0.0022 - 2s/epoch - 19ms/step\n",
      "Epoch 220/500\n",
      "98/98 - 2s - loss: 5.8836e-04 - val_loss: 0.0021 - 2s/epoch - 19ms/step\n",
      "Epoch 221/500\n",
      "98/98 - 2s - loss: 5.9520e-04 - val_loss: 0.0022 - 2s/epoch - 18ms/step\n",
      "Epoch 222/500\n",
      "98/98 - 2s - loss: 5.9166e-04 - val_loss: 0.0024 - 2s/epoch - 18ms/step\n",
      "Epoch 223/500\n",
      "98/98 - 2s - loss: 5.5847e-04 - val_loss: 0.0021 - 2s/epoch - 18ms/step\n",
      "Epoch 224/500\n",
      "98/98 - 2s - loss: 5.9019e-04 - val_loss: 0.0024 - 2s/epoch - 19ms/step\n",
      "Epoch 225/500\n",
      "98/98 - 2s - loss: 4.2202e-04 - val_loss: 0.0020 - 2s/epoch - 19ms/step\n",
      "Epoch 226/500\n",
      "98/98 - 2s - loss: 3.8710e-04 - val_loss: 0.0021 - 2s/epoch - 19ms/step\n",
      "Epoch 227/500\n",
      "98/98 - 2s - loss: 4.8877e-04 - val_loss: 0.0021 - 2s/epoch - 19ms/step\n",
      "Epoch 228/500\n",
      "98/98 - 2s - loss: 4.1645e-04 - val_loss: 0.0020 - 2s/epoch - 18ms/step\n",
      "Epoch 229/500\n",
      "98/98 - 2s - loss: 4.6781e-04 - val_loss: 0.0022 - 2s/epoch - 19ms/step\n",
      "Epoch 230/500\n",
      "98/98 - 2s - loss: 9.3148e-04 - val_loss: 0.0029 - 2s/epoch - 19ms/step\n",
      "Epoch 231/500\n",
      "98/98 - 2s - loss: 0.0011 - val_loss: 0.0023 - 2s/epoch - 19ms/step\n",
      "Epoch 232/500\n",
      "98/98 - 2s - loss: 5.8975e-04 - val_loss: 0.0020 - 2s/epoch - 19ms/step\n",
      "Epoch 233/500\n",
      "98/98 - 2s - loss: 4.5944e-04 - val_loss: 0.0022 - 2s/epoch - 19ms/step\n",
      "Epoch 234/500\n",
      "98/98 - 2s - loss: 7.1955e-04 - val_loss: 0.0021 - 2s/epoch - 19ms/step\n",
      "Epoch 235/500\n",
      "98/98 - 2s - loss: 4.9609e-04 - val_loss: 0.0021 - 2s/epoch - 19ms/step\n",
      "Epoch 236/500\n",
      "98/98 - 2s - loss: 3.4697e-04 - val_loss: 0.0020 - 2s/epoch - 19ms/step\n",
      "Epoch 237/500\n",
      "98/98 - 2s - loss: 3.3167e-04 - val_loss: 0.0019 - 2s/epoch - 19ms/step\n",
      "Epoch 238/500\n",
      "98/98 - 2s - loss: 3.4192e-04 - val_loss: 0.0025 - 2s/epoch - 19ms/step\n",
      "Epoch 239/500\n",
      "98/98 - 2s - loss: 5.8540e-04 - val_loss: 0.0024 - 2s/epoch - 19ms/step\n",
      "Epoch 240/500\n",
      "98/98 - 2s - loss: 6.8238e-04 - val_loss: 0.0020 - 2s/epoch - 19ms/step\n",
      "Epoch 241/500\n",
      "98/98 - 2s - loss: 5.0657e-04 - val_loss: 0.0022 - 2s/epoch - 19ms/step\n",
      "Epoch 242/500\n",
      "98/98 - 2s - loss: 6.2191e-04 - val_loss: 0.0024 - 2s/epoch - 19ms/step\n",
      "Epoch 243/500\n",
      "98/98 - 2s - loss: 6.0593e-04 - val_loss: 0.0020 - 2s/epoch - 19ms/step\n",
      "Epoch 244/500\n",
      "98/98 - 2s - loss: 3.8588e-04 - val_loss: 0.0021 - 2s/epoch - 19ms/step\n",
      "Epoch 245/500\n",
      "98/98 - 2s - loss: 3.8862e-04 - val_loss: 0.0020 - 2s/epoch - 19ms/step\n",
      "Epoch 246/500\n",
      "98/98 - 2s - loss: 6.0515e-04 - val_loss: 0.0020 - 2s/epoch - 19ms/step\n",
      "Epoch 247/500\n",
      "98/98 - 2s - loss: 5.4157e-04 - val_loss: 0.0022 - 2s/epoch - 19ms/step\n",
      "Epoch 248/500\n",
      "98/98 - 2s - loss: 4.2864e-04 - val_loss: 0.0023 - 2s/epoch - 19ms/step\n",
      "Epoch 249/500\n",
      "98/98 - 2s - loss: 6.1940e-04 - val_loss: 0.0023 - 2s/epoch - 19ms/step\n",
      "Epoch 250/500\n",
      "98/98 - 2s - loss: 3.6152e-04 - val_loss: 0.0019 - 2s/epoch - 19ms/step\n",
      "Epoch 251/500\n",
      "98/98 - 2s - loss: 4.3264e-04 - val_loss: 0.0020 - 2s/epoch - 19ms/step\n",
      "Epoch 252/500\n",
      "98/98 - 2s - loss: 3.4536e-04 - val_loss: 0.0020 - 2s/epoch - 19ms/step\n",
      "Epoch 253/500\n",
      "98/98 - 2s - loss: 3.9927e-04 - val_loss: 0.0026 - 2s/epoch - 19ms/step\n",
      "Epoch 254/500\n",
      "98/98 - 2s - loss: 4.4437e-04 - val_loss: 0.0019 - 2s/epoch - 19ms/step\n",
      "Epoch 255/500\n",
      "98/98 - 2s - loss: 3.6058e-04 - val_loss: 0.0020 - 2s/epoch - 19ms/step\n",
      "Epoch 256/500\n",
      "98/98 - 2s - loss: 3.6838e-04 - val_loss: 0.0021 - 2s/epoch - 18ms/step\n",
      "Epoch 257/500\n",
      "98/98 - 2s - loss: 4.1001e-04 - val_loss: 0.0020 - 2s/epoch - 19ms/step\n",
      "Epoch 258/500\n",
      "98/98 - 2s - loss: 3.2147e-04 - val_loss: 0.0021 - 2s/epoch - 19ms/step\n",
      "Epoch 259/500\n",
      "98/98 - 2s - loss: 6.5559e-04 - val_loss: 0.0021 - 2s/epoch - 19ms/step\n",
      "Epoch 260/500\n",
      "98/98 - 1s - loss: 7.4273e-04 - val_loss: 0.0025 - 1s/epoch - 15ms/step\n",
      "Epoch 261/500\n",
      "98/98 - 2s - loss: 6.4275e-04 - val_loss: 0.0022 - 2s/epoch - 18ms/step\n",
      "Epoch 262/500\n",
      "98/98 - 2s - loss: 4.3987e-04 - val_loss: 0.0021 - 2s/epoch - 18ms/step\n",
      "Epoch 263/500\n",
      "98/98 - 2s - loss: 2.8788e-04 - val_loss: 0.0020 - 2s/epoch - 18ms/step\n",
      "Epoch 264/500\n",
      "98/98 - 2s - loss: 5.4692e-04 - val_loss: 0.0021 - 2s/epoch - 18ms/step\n",
      "Epoch 265/500\n",
      "98/98 - 2s - loss: 2.9678e-04 - val_loss: 0.0019 - 2s/epoch - 18ms/step\n",
      "Epoch 266/500\n",
      "98/98 - 2s - loss: 2.9840e-04 - val_loss: 0.0020 - 2s/epoch - 18ms/step\n",
      "Epoch 267/500\n",
      "98/98 - 2s - loss: 5.8190e-04 - val_loss: 0.0022 - 2s/epoch - 19ms/step\n",
      "Epoch 268/500\n",
      "98/98 - 2s - loss: 6.9188e-04 - val_loss: 0.0022 - 2s/epoch - 18ms/step\n",
      "Epoch 269/500\n",
      "98/98 - 2s - loss: 6.3993e-04 - val_loss: 0.0024 - 2s/epoch - 21ms/step\n",
      "Epoch 270/500\n",
      "98/98 - 2s - loss: 8.7222e-04 - val_loss: 0.0022 - 2s/epoch - 16ms/step\n",
      "Epoch 271/500\n",
      "98/98 - 2s - loss: 4.5614e-04 - val_loss: 0.0020 - 2s/epoch - 15ms/step\n",
      "Epoch 272/500\n",
      "98/98 - 2s - loss: 3.5661e-04 - val_loss: 0.0019 - 2s/epoch - 18ms/step\n",
      "Epoch 273/500\n",
      "98/98 - 2s - loss: 2.8974e-04 - val_loss: 0.0020 - 2s/epoch - 19ms/step\n",
      "Epoch 274/500\n",
      "98/98 - 2s - loss: 3.3123e-04 - val_loss: 0.0021 - 2s/epoch - 18ms/step\n",
      "Epoch 275/500\n",
      "98/98 - 2s - loss: 2.2412e-04 - val_loss: 0.0019 - 2s/epoch - 18ms/step\n",
      "Epoch 276/500\n",
      "98/98 - 2s - loss: 2.2811e-04 - val_loss: 0.0020 - 2s/epoch - 18ms/step\n",
      "Epoch 277/500\n",
      "98/98 - 2s - loss: 3.1999e-04 - val_loss: 0.0022 - 2s/epoch - 18ms/step\n",
      "Epoch 278/500\n",
      "98/98 - 2s - loss: 4.1808e-04 - val_loss: 0.0020 - 2s/epoch - 18ms/step\n",
      "Epoch 279/500\n",
      "98/98 - 2s - loss: 3.4136e-04 - val_loss: 0.0019 - 2s/epoch - 18ms/step\n",
      "Epoch 280/500\n",
      "98/98 - 2s - loss: 5.6386e-04 - val_loss: 0.0023 - 2s/epoch - 19ms/step\n",
      "Epoch 281/500\n",
      "98/98 - 2s - loss: 4.7265e-04 - val_loss: 0.0029 - 2s/epoch - 18ms/step\n",
      "Epoch 282/500\n",
      "98/98 - 2s - loss: 9.6432e-04 - val_loss: 0.0031 - 2s/epoch - 17ms/step\n",
      "Epoch 283/500\n",
      "98/98 - 2s - loss: 7.7732e-04 - val_loss: 0.0021 - 2s/epoch - 18ms/step\n",
      "Epoch 284/500\n",
      "98/98 - 2s - loss: 5.2206e-04 - val_loss: 0.0019 - 2s/epoch - 18ms/step\n",
      "Epoch 285/500\n",
      "98/98 - 2s - loss: 6.2781e-04 - val_loss: 0.0022 - 2s/epoch - 19ms/step\n",
      "Epoch 286/500\n",
      "98/98 - 2s - loss: 5.0322e-04 - val_loss: 0.0021 - 2s/epoch - 18ms/step\n",
      "Epoch 287/500\n",
      "98/98 - 2s - loss: 2.8661e-04 - val_loss: 0.0020 - 2s/epoch - 18ms/step\n",
      "Epoch 288/500\n",
      "98/98 - 2s - loss: 2.4573e-04 - val_loss: 0.0019 - 2s/epoch - 18ms/step\n",
      "Epoch 289/500\n",
      "98/98 - 2s - loss: 2.9176e-04 - val_loss: 0.0019 - 2s/epoch - 17ms/step\n",
      "Epoch 290/500\n",
      "98/98 - 2s - loss: 2.7797e-04 - val_loss: 0.0024 - 2s/epoch - 17ms/step\n",
      "Epoch 291/500\n",
      "98/98 - 2s - loss: 4.0030e-04 - val_loss: 0.0020 - 2s/epoch - 18ms/step\n",
      "Epoch 292/500\n",
      "98/98 - 2s - loss: 3.4981e-04 - val_loss: 0.0024 - 2s/epoch - 17ms/step\n",
      "Epoch 293/500\n",
      "98/98 - 2s - loss: 3.9247e-04 - val_loss: 0.0019 - 2s/epoch - 19ms/step\n",
      "Epoch 294/500\n",
      "98/98 - 2s - loss: 2.3035e-04 - val_loss: 0.0018 - 2s/epoch - 19ms/step\n",
      "Epoch 295/500\n",
      "98/98 - 2s - loss: 1.6765e-04 - val_loss: 0.0019 - 2s/epoch - 18ms/step\n",
      "Epoch 296/500\n",
      "98/98 - 2s - loss: 1.5336e-04 - val_loss: 0.0020 - 2s/epoch - 18ms/step\n"
     ]
    },
    {
     "name": "stdout",
     "output_type": "stream",
     "text": [
      "Epoch 297/500\n",
      "98/98 - 2s - loss: 2.0755e-04 - val_loss: 0.0019 - 2s/epoch - 18ms/step\n",
      "Epoch 298/500\n",
      "98/98 - 2s - loss: 2.6593e-04 - val_loss: 0.0020 - 2s/epoch - 18ms/step\n",
      "Epoch 299/500\n",
      "98/98 - 2s - loss: 3.1711e-04 - val_loss: 0.0021 - 2s/epoch - 19ms/step\n",
      "Epoch 300/500\n",
      "98/98 - 2s - loss: 5.6718e-04 - val_loss: 0.0020 - 2s/epoch - 19ms/step\n",
      "Epoch 301/500\n",
      "98/98 - 2s - loss: 4.6054e-04 - val_loss: 0.0025 - 2s/epoch - 18ms/step\n",
      "Epoch 302/500\n",
      "98/98 - 2s - loss: 5.2630e-04 - val_loss: 0.0024 - 2s/epoch - 17ms/step\n",
      "Epoch 303/500\n",
      "98/98 - 2s - loss: 4.1466e-04 - val_loss: 0.0022 - 2s/epoch - 18ms/step\n",
      "Epoch 304/500\n",
      "98/98 - 2s - loss: 3.7750e-04 - val_loss: 0.0020 - 2s/epoch - 18ms/step\n",
      "Epoch 305/500\n",
      "98/98 - 2s - loss: 2.5174e-04 - val_loss: 0.0019 - 2s/epoch - 18ms/step\n",
      "Epoch 306/500\n",
      "98/98 - 2s - loss: 2.2928e-04 - val_loss: 0.0019 - 2s/epoch - 18ms/step\n",
      "Epoch 307/500\n",
      "98/98 - 2s - loss: 2.7661e-04 - val_loss: 0.0020 - 2s/epoch - 18ms/step\n",
      "Epoch 308/500\n",
      "98/98 - 2s - loss: 2.0197e-04 - val_loss: 0.0019 - 2s/epoch - 18ms/step\n",
      "Epoch 309/500\n",
      "98/98 - 2s - loss: 1.4710e-04 - val_loss: 0.0019 - 2s/epoch - 17ms/step\n",
      "Epoch 310/500\n",
      "98/98 - 2s - loss: 1.7757e-04 - val_loss: 0.0021 - 2s/epoch - 18ms/step\n",
      "Epoch 311/500\n",
      "98/98 - 2s - loss: 2.0333e-04 - val_loss: 0.0021 - 2s/epoch - 18ms/step\n",
      "Epoch 312/500\n",
      "98/98 - 2s - loss: 2.5431e-04 - val_loss: 0.0019 - 2s/epoch - 17ms/step\n",
      "Epoch 313/500\n",
      "98/98 - 2s - loss: 1.8106e-04 - val_loss: 0.0021 - 2s/epoch - 18ms/step\n",
      "Epoch 314/500\n",
      "98/98 - 2s - loss: 6.9065e-04 - val_loss: 0.0025 - 2s/epoch - 18ms/step\n",
      "Epoch 315/500\n",
      "98/98 - 2s - loss: 9.9108e-04 - val_loss: 0.0045 - 2s/epoch - 18ms/step\n",
      "Epoch 316/500\n",
      "98/98 - 2s - loss: 6.2008e-04 - val_loss: 0.0020 - 2s/epoch - 20ms/step\n",
      "Epoch 317/500\n",
      "98/98 - 2s - loss: 4.3349e-04 - val_loss: 0.0020 - 2s/epoch - 19ms/step\n",
      "Epoch 318/500\n",
      "98/98 - 2s - loss: 2.9527e-04 - val_loss: 0.0022 - 2s/epoch - 18ms/step\n",
      "Epoch 319/500\n",
      "98/98 - 2s - loss: 3.7806e-04 - val_loss: 0.0018 - 2s/epoch - 19ms/step\n",
      "Epoch 320/500\n",
      "98/98 - 2s - loss: 3.4046e-04 - val_loss: 0.0019 - 2s/epoch - 18ms/step\n",
      "Epoch 321/500\n",
      "98/98 - 2s - loss: 2.6636e-04 - val_loss: 0.0020 - 2s/epoch - 18ms/step\n",
      "Epoch 322/500\n",
      "98/98 - 2s - loss: 2.6184e-04 - val_loss: 0.0020 - 2s/epoch - 18ms/step\n",
      "Epoch 323/500\n",
      "98/98 - 2s - loss: 2.3504e-04 - val_loss: 0.0020 - 2s/epoch - 18ms/step\n",
      "Epoch 324/500\n",
      "98/98 - 2s - loss: 2.9283e-04 - val_loss: 0.0021 - 2s/epoch - 18ms/step\n",
      "Epoch 325/500\n",
      "98/98 - 2s - loss: 2.2847e-04 - val_loss: 0.0019 - 2s/epoch - 17ms/step\n",
      "Epoch 326/500\n",
      "98/98 - 2s - loss: 1.6448e-04 - val_loss: 0.0019 - 2s/epoch - 18ms/step\n",
      "Epoch 327/500\n",
      "98/98 - 2s - loss: 1.7551e-04 - val_loss: 0.0021 - 2s/epoch - 19ms/step\n",
      "Epoch 328/500\n",
      "98/98 - 2s - loss: 1.9224e-04 - val_loss: 0.0019 - 2s/epoch - 19ms/step\n",
      "Epoch 329/500\n",
      "98/98 - 2s - loss: 2.2582e-04 - val_loss: 0.0020 - 2s/epoch - 18ms/step\n",
      "Epoch 330/500\n",
      "98/98 - 2s - loss: 2.5013e-04 - val_loss: 0.0019 - 2s/epoch - 18ms/step\n",
      "Epoch 331/500\n",
      "98/98 - 2s - loss: 2.8731e-04 - val_loss: 0.0019 - 2s/epoch - 18ms/step\n",
      "Epoch 332/500\n",
      "98/98 - 2s - loss: 2.3620e-04 - val_loss: 0.0020 - 2s/epoch - 18ms/step\n",
      "Epoch 333/500\n",
      "98/98 - 2s - loss: 2.8833e-04 - val_loss: 0.0020 - 2s/epoch - 18ms/step\n",
      "Epoch 334/500\n",
      "98/98 - 2s - loss: 3.9311e-04 - val_loss: 0.0019 - 2s/epoch - 18ms/step\n",
      "Epoch 335/500\n",
      "98/98 - 2s - loss: 2.1715e-04 - val_loss: 0.0021 - 2s/epoch - 18ms/step\n",
      "Epoch 336/500\n",
      "98/98 - 2s - loss: 2.4440e-04 - val_loss: 0.0019 - 2s/epoch - 18ms/step\n",
      "Epoch 337/500\n",
      "98/98 - 2s - loss: 3.0008e-04 - val_loss: 0.0027 - 2s/epoch - 17ms/step\n",
      "Epoch 338/500\n",
      "98/98 - 2s - loss: 3.6079e-04 - val_loss: 0.0029 - 2s/epoch - 16ms/step\n",
      "Epoch 339/500\n",
      "98/98 - 2s - loss: 4.7282e-04 - val_loss: 0.0020 - 2s/epoch - 19ms/step\n",
      "Epoch 340/500\n",
      "98/98 - 2s - loss: 8.5096e-04 - val_loss: 0.0020 - 2s/epoch - 18ms/step\n",
      "Epoch 341/500\n",
      "98/98 - 2s - loss: 5.5849e-04 - val_loss: 0.0023 - 2s/epoch - 18ms/step\n",
      "Epoch 342/500\n",
      "98/98 - 2s - loss: 5.1239e-04 - val_loss: 0.0020 - 2s/epoch - 18ms/step\n",
      "Epoch 343/500\n",
      "98/98 - 2s - loss: 3.6882e-04 - val_loss: 0.0020 - 2s/epoch - 18ms/step\n",
      "Epoch 344/500\n",
      "98/98 - 2s - loss: 5.3871e-04 - val_loss: 0.0020 - 2s/epoch - 18ms/step\n",
      "Epoch 345/500\n",
      "98/98 - 2s - loss: 3.6128e-04 - val_loss: 0.0034 - 2s/epoch - 17ms/step\n",
      "Epoch 346/500\n",
      "98/98 - 2s - loss: 3.3055e-04 - val_loss: 0.0019 - 2s/epoch - 19ms/step\n",
      "Epoch 347/500\n",
      "98/98 - 2s - loss: 1.9226e-04 - val_loss: 0.0019 - 2s/epoch - 18ms/step\n",
      "Epoch 348/500\n",
      "98/98 - 2s - loss: 1.1246e-04 - val_loss: 0.0019 - 2s/epoch - 17ms/step\n",
      "Epoch 349/500\n",
      "98/98 - 2s - loss: 1.5999e-04 - val_loss: 0.0019 - 2s/epoch - 18ms/step\n",
      "Epoch 350/500\n",
      "98/98 - 2s - loss: 1.6109e-04 - val_loss: 0.0019 - 2s/epoch - 17ms/step\n",
      "Epoch 351/500\n",
      "98/98 - 2s - loss: 1.2163e-04 - val_loss: 0.0018 - 2s/epoch - 18ms/step\n",
      "Epoch 352/500\n",
      "98/98 - 2s - loss: 1.4220e-04 - val_loss: 0.0019 - 2s/epoch - 18ms/step\n",
      "Epoch 353/500\n",
      "98/98 - 2s - loss: 1.8479e-04 - val_loss: 0.0019 - 2s/epoch - 18ms/step\n",
      "Epoch 354/500\n",
      "98/98 - 2s - loss: 1.1257e-04 - val_loss: 0.0020 - 2s/epoch - 18ms/step\n",
      "Epoch 355/500\n",
      "98/98 - 2s - loss: 1.5714e-04 - val_loss: 0.0018 - 2s/epoch - 18ms/step\n",
      "Epoch 356/500\n",
      "98/98 - 2s - loss: 1.7653e-04 - val_loss: 0.0019 - 2s/epoch - 18ms/step\n",
      "Epoch 357/500\n",
      "98/98 - 2s - loss: 1.9928e-04 - val_loss: 0.0020 - 2s/epoch - 18ms/step\n",
      "Epoch 358/500\n",
      "98/98 - 2s - loss: 1.5038e-04 - val_loss: 0.0019 - 2s/epoch - 18ms/step\n",
      "Epoch 359/500\n",
      "98/98 - 2s - loss: 1.4342e-04 - val_loss: 0.0020 - 2s/epoch - 18ms/step\n",
      "Epoch 360/500\n",
      "98/98 - 2s - loss: 2.3184e-04 - val_loss: 0.0023 - 2s/epoch - 18ms/step\n",
      "Epoch 361/500\n",
      "98/98 - 2s - loss: 4.0631e-04 - val_loss: 0.0020 - 2s/epoch - 18ms/step\n",
      "Epoch 362/500\n",
      "98/98 - 2s - loss: 2.7858e-04 - val_loss: 0.0025 - 2s/epoch - 18ms/step\n",
      "Epoch 363/500\n",
      "98/98 - 2s - loss: 5.1971e-04 - val_loss: 0.0020 - 2s/epoch - 18ms/step\n",
      "Epoch 364/500\n",
      "98/98 - 2s - loss: 4.8276e-04 - val_loss: 0.0019 - 2s/epoch - 18ms/step\n",
      "Epoch 365/500\n",
      "98/98 - 2s - loss: 2.7891e-04 - val_loss: 0.0019 - 2s/epoch - 18ms/step\n",
      "Epoch 366/500\n",
      "98/98 - 2s - loss: 2.4868e-04 - val_loss: 0.0019 - 2s/epoch - 18ms/step\n",
      "Epoch 367/500\n",
      "98/98 - 2s - loss: 1.9756e-04 - val_loss: 0.0019 - 2s/epoch - 17ms/step\n",
      "Epoch 368/500\n",
      "98/98 - 2s - loss: 3.8409e-04 - val_loss: 0.0042 - 2s/epoch - 18ms/step\n",
      "Epoch 369/500\n",
      "98/98 - 2s - loss: 8.8629e-04 - val_loss: 0.0021 - 2s/epoch - 18ms/step\n",
      "Epoch 370/500\n",
      "98/98 - 2s - loss: 3.7761e-04 - val_loss: 0.0022 - 2s/epoch - 18ms/step\n",
      "Epoch 371/500\n",
      "98/98 - 2s - loss: 4.2006e-04 - val_loss: 0.0020 - 2s/epoch - 18ms/step\n",
      "Epoch 372/500\n",
      "98/98 - 2s - loss: 2.8374e-04 - val_loss: 0.0025 - 2s/epoch - 18ms/step\n",
      "Epoch 373/500\n",
      "98/98 - 2s - loss: 1.6836e-04 - val_loss: 0.0019 - 2s/epoch - 18ms/step\n",
      "Epoch 374/500\n",
      "98/98 - 2s - loss: 1.0957e-04 - val_loss: 0.0021 - 2s/epoch - 18ms/step\n",
      "Epoch 375/500\n",
      "98/98 - 2s - loss: 1.5717e-04 - val_loss: 0.0019 - 2s/epoch - 18ms/step\n",
      "Epoch 376/500\n",
      "98/98 - 2s - loss: 1.6584e-04 - val_loss: 0.0020 - 2s/epoch - 18ms/step\n",
      "Epoch 377/500\n",
      "98/98 - 2s - loss: 1.0057e-04 - val_loss: 0.0018 - 2s/epoch - 18ms/step\n",
      "Epoch 378/500\n",
      "98/98 - 2s - loss: 1.4585e-04 - val_loss: 0.0021 - 2s/epoch - 18ms/step\n",
      "Epoch 379/500\n",
      "98/98 - 2s - loss: 1.8055e-04 - val_loss: 0.0019 - 2s/epoch - 18ms/step\n",
      "Epoch 380/500\n",
      "98/98 - 2s - loss: 1.1769e-04 - val_loss: 0.0020 - 2s/epoch - 18ms/step\n",
      "Epoch 381/500\n",
      "98/98 - 2s - loss: 9.2398e-05 - val_loss: 0.0020 - 2s/epoch - 18ms/step\n",
      "Epoch 382/500\n",
      "98/98 - 2s - loss: 1.3587e-04 - val_loss: 0.0019 - 2s/epoch - 17ms/step\n",
      "Epoch 383/500\n",
      "98/98 - 2s - loss: 1.4019e-04 - val_loss: 0.0019 - 2s/epoch - 18ms/step\n",
      "Epoch 384/500\n",
      "98/98 - 2s - loss: 1.2871e-04 - val_loss: 0.0019 - 2s/epoch - 18ms/step\n",
      "Epoch 385/500\n",
      "98/98 - 2s - loss: 1.8781e-04 - val_loss: 0.0020 - 2s/epoch - 17ms/step\n",
      "Epoch 386/500\n",
      "98/98 - 2s - loss: 2.3842e-04 - val_loss: 0.0021 - 2s/epoch - 16ms/step\n",
      "Epoch 387/500\n",
      "98/98 - 2s - loss: 2.2796e-04 - val_loss: 0.0022 - 2s/epoch - 18ms/step\n",
      "Epoch 388/500\n",
      "98/98 - 2s - loss: 4.4915e-04 - val_loss: 0.0021 - 2s/epoch - 18ms/step\n",
      "Epoch 389/500\n",
      "98/98 - 2s - loss: 7.0895e-04 - val_loss: 0.0023 - 2s/epoch - 18ms/step\n",
      "Epoch 390/500\n",
      "98/98 - 2s - loss: 8.5179e-04 - val_loss: 0.0021 - 2s/epoch - 18ms/step\n",
      "Epoch 391/500\n",
      "98/98 - 2s - loss: 4.3645e-04 - val_loss: 0.0019 - 2s/epoch - 18ms/step\n",
      "Epoch 392/500\n",
      "98/98 - 2s - loss: 2.7093e-04 - val_loss: 0.0019 - 2s/epoch - 18ms/step\n"
     ]
    },
    {
     "name": "stdout",
     "output_type": "stream",
     "text": [
      "Epoch 393/500\n",
      "98/98 - 2s - loss: 1.3451e-04 - val_loss: 0.0019 - 2s/epoch - 18ms/step\n",
      "Epoch 394/500\n",
      "98/98 - 2s - loss: 9.8334e-05 - val_loss: 0.0019 - 2s/epoch - 18ms/step\n",
      "Epoch 395/500\n",
      "98/98 - 2s - loss: 8.6780e-05 - val_loss: 0.0019 - 2s/epoch - 17ms/step\n",
      "Epoch 396/500\n",
      "98/98 - 2s - loss: 6.5369e-05 - val_loss: 0.0019 - 2s/epoch - 18ms/step\n",
      "Epoch 397/500\n",
      "98/98 - 2s - loss: 8.8081e-05 - val_loss: 0.0018 - 2s/epoch - 18ms/step\n",
      "Epoch 398/500\n",
      "98/98 - 2s - loss: 1.2348e-04 - val_loss: 0.0018 - 2s/epoch - 18ms/step\n",
      "Epoch 399/500\n",
      "98/98 - 2s - loss: 1.1012e-04 - val_loss: 0.0019 - 2s/epoch - 18ms/step\n",
      "Epoch 400/500\n",
      "98/98 - 2s - loss: 1.0901e-04 - val_loss: 0.0018 - 2s/epoch - 18ms/step\n",
      "Epoch 401/500\n",
      "98/98 - 2s - loss: 1.5935e-04 - val_loss: 0.0019 - 2s/epoch - 18ms/step\n",
      "Epoch 402/500\n",
      "98/98 - 2s - loss: 1.0129e-04 - val_loss: 0.0018 - 2s/epoch - 18ms/step\n",
      "Epoch 403/500\n",
      "98/98 - 2s - loss: 8.1877e-05 - val_loss: 0.0019 - 2s/epoch - 18ms/step\n",
      "Epoch 404/500\n",
      "98/98 - 2s - loss: 1.1265e-04 - val_loss: 0.0019 - 2s/epoch - 18ms/step\n",
      "Epoch 405/500\n",
      "98/98 - 2s - loss: 1.1316e-04 - val_loss: 0.0024 - 2s/epoch - 18ms/step\n",
      "Epoch 406/500\n",
      "98/98 - 2s - loss: 3.4044e-04 - val_loss: 0.0019 - 2s/epoch - 17ms/step\n",
      "Epoch 407/500\n",
      "98/98 - 2s - loss: 2.3288e-04 - val_loss: 0.0019 - 2s/epoch - 18ms/step\n",
      "Epoch 408/500\n",
      "98/98 - 2s - loss: 3.0962e-04 - val_loss: 0.0030 - 2s/epoch - 18ms/step\n",
      "Epoch 409/500\n",
      "98/98 - 2s - loss: 3.2294e-04 - val_loss: 0.0022 - 2s/epoch - 18ms/step\n",
      "Epoch 410/500\n",
      "98/98 - 2s - loss: 1.7309e-04 - val_loss: 0.0019 - 2s/epoch - 18ms/step\n",
      "Epoch 411/500\n",
      "98/98 - 2s - loss: 3.5248e-04 - val_loss: 0.0020 - 2s/epoch - 18ms/step\n",
      "Epoch 412/500\n",
      "98/98 - 2s - loss: 2.1793e-04 - val_loss: 0.0020 - 2s/epoch - 17ms/step\n",
      "Epoch 413/500\n",
      "98/98 - 2s - loss: 2.5099e-04 - val_loss: 0.0025 - 2s/epoch - 18ms/step\n",
      "Epoch 414/500\n",
      "98/98 - 2s - loss: 2.6027e-04 - val_loss: 0.0020 - 2s/epoch - 18ms/step\n",
      "Epoch 415/500\n",
      "98/98 - 2s - loss: 2.1203e-04 - val_loss: 0.0018 - 2s/epoch - 18ms/step\n",
      "Epoch 416/500\n",
      "98/98 - 2s - loss: 1.8211e-04 - val_loss: 0.0019 - 2s/epoch - 18ms/step\n",
      "Epoch 417/500\n",
      "98/98 - 2s - loss: 1.7880e-04 - val_loss: 0.0018 - 2s/epoch - 18ms/step\n",
      "Epoch 418/500\n",
      "98/98 - 2s - loss: 1.9508e-04 - val_loss: 0.0018 - 2s/epoch - 18ms/step\n",
      "Epoch 419/500\n",
      "98/98 - 2s - loss: 1.4760e-04 - val_loss: 0.0020 - 2s/epoch - 18ms/step\n",
      "Epoch 420/500\n",
      "98/98 - 2s - loss: 2.9119e-04 - val_loss: 0.0023 - 2s/epoch - 17ms/step\n",
      "Epoch 421/500\n",
      "98/98 - 2s - loss: 2.1880e-04 - val_loss: 0.0020 - 2s/epoch - 18ms/step\n",
      "Epoch 422/500\n",
      "98/98 - 2s - loss: 2.0480e-04 - val_loss: 0.0024 - 2s/epoch - 18ms/step\n",
      "Epoch 423/500\n",
      "98/98 - 2s - loss: 3.0172e-04 - val_loss: 0.0022 - 2s/epoch - 18ms/step\n",
      "Epoch 424/500\n",
      "98/98 - 2s - loss: 5.1126e-04 - val_loss: 0.0023 - 2s/epoch - 18ms/step\n",
      "Epoch 425/500\n",
      "98/98 - 2s - loss: 3.7575e-04 - val_loss: 0.0021 - 2s/epoch - 18ms/step\n",
      "Epoch 426/500\n",
      "98/98 - 2s - loss: 2.6258e-04 - val_loss: 0.0019 - 2s/epoch - 18ms/step\n",
      "Epoch 427/500\n",
      "98/98 - 2s - loss: 1.8378e-04 - val_loss: 0.0020 - 2s/epoch - 18ms/step\n",
      "Epoch 428/500\n",
      "98/98 - 2s - loss: 1.4959e-04 - val_loss: 0.0019 - 2s/epoch - 18ms/step\n",
      "Epoch 429/500\n",
      "98/98 - 2s - loss: 1.1307e-04 - val_loss: 0.0019 - 2s/epoch - 18ms/step\n",
      "Epoch 430/500\n",
      "98/98 - 2s - loss: 8.8512e-05 - val_loss: 0.0019 - 2s/epoch - 17ms/step\n",
      "Epoch 431/500\n",
      "98/98 - 2s - loss: 1.0745e-04 - val_loss: 0.0019 - 2s/epoch - 18ms/step\n",
      "Epoch 432/500\n",
      "98/98 - 2s - loss: 1.5382e-04 - val_loss: 0.0019 - 2s/epoch - 18ms/step\n",
      "Epoch 433/500\n",
      "98/98 - 2s - loss: 1.3600e-04 - val_loss: 0.0019 - 2s/epoch - 18ms/step\n",
      "Epoch 434/500\n",
      "98/98 - 2s - loss: 1.2726e-04 - val_loss: 0.0020 - 2s/epoch - 19ms/step\n",
      "Epoch 435/500\n",
      "98/98 - 2s - loss: 1.5710e-04 - val_loss: 0.0019 - 2s/epoch - 18ms/step\n",
      "Epoch 436/500\n",
      "98/98 - 2s - loss: 1.6997e-04 - val_loss: 0.0018 - 2s/epoch - 19ms/step\n",
      "Epoch 437/500\n",
      "98/98 - 2s - loss: 2.4219e-04 - val_loss: 0.0021 - 2s/epoch - 18ms/step\n",
      "Epoch 438/500\n",
      "98/98 - 2s - loss: 3.6219e-04 - val_loss: 0.0020 - 2s/epoch - 18ms/step\n",
      "Epoch 439/500\n",
      "98/98 - 2s - loss: 2.4234e-04 - val_loss: 0.0020 - 2s/epoch - 18ms/step\n",
      "Epoch 440/500\n",
      "98/98 - 2s - loss: 4.0365e-04 - val_loss: 0.0018 - 2s/epoch - 18ms/step\n",
      "Epoch 441/500\n",
      "98/98 - 2s - loss: 3.3881e-04 - val_loss: 0.0020 - 2s/epoch - 17ms/step\n",
      "Epoch 442/500\n",
      "98/98 - 2s - loss: 2.9030e-04 - val_loss: 0.0019 - 2s/epoch - 18ms/step\n",
      "Epoch 443/500\n",
      "98/98 - 2s - loss: 2.0679e-04 - val_loss: 0.0019 - 2s/epoch - 18ms/step\n",
      "Epoch 444/500\n",
      "98/98 - 2s - loss: 1.3286e-04 - val_loss: 0.0019 - 2s/epoch - 18ms/step\n",
      "Epoch 445/500\n",
      "98/98 - 2s - loss: 1.1022e-04 - val_loss: 0.0021 - 2s/epoch - 18ms/step\n",
      "Epoch 446/500\n",
      "98/98 - 2s - loss: 2.4306e-04 - val_loss: 0.0020 - 2s/epoch - 18ms/step\n",
      "Epoch 447/500\n",
      "98/98 - 2s - loss: 3.5466e-04 - val_loss: 0.0020 - 2s/epoch - 18ms/step\n",
      "Epoch 448/500\n",
      "98/98 - 2s - loss: 4.0844e-04 - val_loss: 0.0022 - 2s/epoch - 18ms/step\n",
      "Epoch 449/500\n",
      "98/98 - 2s - loss: 3.1520e-04 - val_loss: 0.0021 - 2s/epoch - 18ms/step\n",
      "Epoch 450/500\n",
      "98/98 - 2s - loss: 2.2270e-04 - val_loss: 0.0019 - 2s/epoch - 18ms/step\n",
      "Epoch 451/500\n",
      "98/98 - 2s - loss: 1.9404e-04 - val_loss: 0.0022 - 2s/epoch - 18ms/step\n",
      "Epoch 452/500\n",
      "98/98 - 2s - loss: 2.2872e-04 - val_loss: 0.0019 - 2s/epoch - 18ms/step\n",
      "Epoch 453/500\n",
      "98/98 - 2s - loss: 1.2511e-04 - val_loss: 0.0019 - 2s/epoch - 18ms/step\n",
      "Epoch 454/500\n",
      "98/98 - 2s - loss: 1.1847e-04 - val_loss: 0.0019 - 2s/epoch - 18ms/step\n",
      "Epoch 455/500\n",
      "98/98 - 2s - loss: 9.9484e-05 - val_loss: 0.0018 - 2s/epoch - 18ms/step\n",
      "Epoch 456/500\n",
      "98/98 - 2s - loss: 7.0688e-05 - val_loss: 0.0018 - 2s/epoch - 18ms/step\n",
      "Epoch 457/500\n",
      "98/98 - 2s - loss: 5.6621e-05 - val_loss: 0.0019 - 2s/epoch - 18ms/step\n",
      "Epoch 458/500\n",
      "98/98 - 2s - loss: 5.9705e-05 - val_loss: 0.0018 - 2s/epoch - 17ms/step\n",
      "Epoch 459/500\n",
      "98/98 - 2s - loss: 9.1698e-05 - val_loss: 0.0018 - 2s/epoch - 18ms/step\n",
      "Epoch 460/500\n",
      "98/98 - 2s - loss: 9.4327e-05 - val_loss: 0.0019 - 2s/epoch - 18ms/step\n",
      "Epoch 461/500\n",
      "98/98 - 2s - loss: 1.2059e-04 - val_loss: 0.0019 - 2s/epoch - 18ms/step\n",
      "Epoch 462/500\n",
      "98/98 - 2s - loss: 1.4352e-04 - val_loss: 0.0020 - 2s/epoch - 18ms/step\n",
      "Epoch 463/500\n",
      "98/98 - 2s - loss: 1.9294e-04 - val_loss: 0.0019 - 2s/epoch - 18ms/step\n",
      "Epoch 464/500\n",
      "98/98 - 2s - loss: 1.7728e-04 - val_loss: 0.0019 - 2s/epoch - 18ms/step\n",
      "Epoch 465/500\n",
      "98/98 - 2s - loss: 1.9282e-04 - val_loss: 0.0022 - 2s/epoch - 17ms/step\n",
      "Epoch 466/500\n",
      "98/98 - 2s - loss: 2.3259e-04 - val_loss: 0.0021 - 2s/epoch - 17ms/step\n",
      "Epoch 467/500\n",
      "98/98 - 2s - loss: 1.9530e-04 - val_loss: 0.0019 - 2s/epoch - 18ms/step\n",
      "Epoch 468/500\n",
      "98/98 - 2s - loss: 2.0832e-04 - val_loss: 0.0018 - 2s/epoch - 18ms/step\n",
      "Epoch 469/500\n",
      "98/98 - 2s - loss: 3.6465e-04 - val_loss: 0.0028 - 2s/epoch - 18ms/step\n",
      "Epoch 470/500\n",
      "98/98 - 2s - loss: 9.7326e-04 - val_loss: 0.0025 - 2s/epoch - 18ms/step\n",
      "Epoch 471/500\n",
      "98/98 - 2s - loss: 5.7232e-04 - val_loss: 0.0023 - 2s/epoch - 18ms/step\n",
      "Epoch 472/500\n",
      "98/98 - 2s - loss: 3.6139e-04 - val_loss: 0.0020 - 2s/epoch - 17ms/step\n",
      "Epoch 473/500\n",
      "98/98 - 2s - loss: 2.6745e-04 - val_loss: 0.0019 - 2s/epoch - 18ms/step\n",
      "Epoch 474/500\n",
      "98/98 - 2s - loss: 1.3965e-04 - val_loss: 0.0019 - 2s/epoch - 18ms/step\n",
      "Epoch 475/500\n",
      "98/98 - 2s - loss: 1.0326e-04 - val_loss: 0.0019 - 2s/epoch - 17ms/step\n",
      "Epoch 476/500\n",
      "98/98 - 2s - loss: 1.0092e-04 - val_loss: 0.0019 - 2s/epoch - 18ms/step\n",
      "Epoch 477/500\n",
      "98/98 - 2s - loss: 9.7270e-05 - val_loss: 0.0020 - 2s/epoch - 18ms/step\n",
      "Epoch 478/500\n",
      "98/98 - 2s - loss: 1.1396e-04 - val_loss: 0.0022 - 2s/epoch - 17ms/step\n",
      "Epoch 479/500\n",
      "98/98 - 2s - loss: 1.0179e-04 - val_loss: 0.0018 - 2s/epoch - 18ms/step\n",
      "Epoch 480/500\n",
      "98/98 - 2s - loss: 7.2207e-05 - val_loss: 0.0018 - 2s/epoch - 18ms/step\n",
      "Epoch 481/500\n",
      "98/98 - 2s - loss: 7.1645e-05 - val_loss: 0.0020 - 2s/epoch - 18ms/step\n",
      "Epoch 482/500\n",
      "98/98 - 2s - loss: 6.7916e-05 - val_loss: 0.0019 - 2s/epoch - 18ms/step\n",
      "Epoch 483/500\n",
      "98/98 - 2s - loss: 9.2293e-05 - val_loss: 0.0019 - 2s/epoch - 18ms/step\n",
      "Epoch 484/500\n",
      "98/98 - 2s - loss: 8.2589e-05 - val_loss: 0.0019 - 2s/epoch - 17ms/step\n",
      "Epoch 485/500\n",
      "98/98 - 2s - loss: 9.6118e-05 - val_loss: 0.0020 - 2s/epoch - 18ms/step\n",
      "Epoch 486/500\n",
      "98/98 - 2s - loss: 1.0154e-04 - val_loss: 0.0019 - 2s/epoch - 18ms/step\n",
      "Epoch 487/500\n",
      "98/98 - 2s - loss: 2.1307e-04 - val_loss: 0.0022 - 2s/epoch - 18ms/step\n",
      "Epoch 488/500\n",
      "98/98 - 2s - loss: 1.3620e-04 - val_loss: 0.0019 - 2s/epoch - 18ms/step\n"
     ]
    },
    {
     "name": "stdout",
     "output_type": "stream",
     "text": [
      "Epoch 489/500\n",
      "98/98 - 2s - loss: 1.3031e-04 - val_loss: 0.0022 - 2s/epoch - 18ms/step\n",
      "Epoch 490/500\n",
      "98/98 - 2s - loss: 1.5072e-04 - val_loss: 0.0019 - 2s/epoch - 17ms/step\n",
      "Epoch 491/500\n",
      "98/98 - 2s - loss: 1.1521e-04 - val_loss: 0.0020 - 2s/epoch - 18ms/step\n",
      "Epoch 492/500\n",
      "98/98 - 2s - loss: 1.1074e-04 - val_loss: 0.0019 - 2s/epoch - 17ms/step\n",
      "Epoch 493/500\n",
      "98/98 - 2s - loss: 1.1179e-04 - val_loss: 0.0020 - 2s/epoch - 18ms/step\n",
      "Epoch 494/500\n",
      "98/98 - 2s - loss: 1.4465e-04 - val_loss: 0.0019 - 2s/epoch - 18ms/step\n",
      "Epoch 495/500\n",
      "98/98 - 2s - loss: 1.9261e-04 - val_loss: 0.0021 - 2s/epoch - 17ms/step\n",
      "Epoch 496/500\n",
      "98/98 - 1s - loss: 2.4656e-04 - val_loss: 0.0024 - 1s/epoch - 15ms/step\n",
      "Epoch 497/500\n",
      "98/98 - 2s - loss: 5.3081e-04 - val_loss: 0.0023 - 2s/epoch - 16ms/step\n",
      "Epoch 498/500\n",
      "98/98 - 2s - loss: 6.6182e-04 - val_loss: 0.0021 - 2s/epoch - 16ms/step\n",
      "Epoch 499/500\n",
      "98/98 - 2s - loss: 3.4668e-04 - val_loss: 0.0021 - 2s/epoch - 16ms/step\n",
      "Epoch 500/500\n",
      "98/98 - 2s - loss: 3.4211e-04 - val_loss: 0.0021 - 2s/epoch - 17ms/step\n",
      "Wall time: 14min 43s\n"
     ]
    }
   ],
   "source": [
    "%%time\n",
    "history = model.fit(\n",
    "    X_train, y_train,\n",
    "    validation_split=0.2,\n",
    "    batch_size=50,\n",
    "    verbose=2, epochs=500)"
   ]
  },
  {
   "cell_type": "code",
   "execution_count": 196,
   "id": "83e5ba5d",
   "metadata": {},
   "outputs": [],
   "source": [
    "def printLoss(loss_type, loss):\n",
    "    MEAN = np.mean(loss)\n",
    "    STD_DEV = np.std(loss)\n",
    "    MIN = np.min(loss)\n",
    "    MAX = np.max(loss)\n",
    "    print(str(loss_type))\n",
    "    print(\"\\t Max: =\", MAX)\n",
    "    print(\"\\t Min: =\", MIN)\n",
    "    print(\"\\t Mean: =\", MEAN)"
   ]
  },
  {
   "cell_type": "code",
   "execution_count": 197,
   "id": "7d380c82",
   "metadata": {},
   "outputs": [
    {
     "name": "stdout",
     "output_type": "stream",
     "text": [
      "Training Loss:\n",
      "\t Max: = 2.769223690032959\n",
      "\t Min: = 5.662068724632263e-05\n",
      "\t Mean: = 0.006585103158104175\n",
      "Validation Loss:\n",
      "\t Max: = 0.13390149176120758\n",
      "\t Min: = 0.0017660422017797828\n",
      "\t Mean: = 0.0027110097585245968\n"
     ]
    }
   ],
   "source": [
    "hist = pd.DataFrame(history.history)\n",
    "hist['epoch'] = history.epoch\n",
    "training_loss = history.history['loss']\n",
    "validation_loss = history.history['val_loss']\n",
    "printLoss(\"Training Loss:\", training_loss)\n",
    "printLoss(\"Validation Loss:\", validation_loss)"
   ]
  },
  {
   "cell_type": "code",
   "execution_count": 198,
   "id": "4c869c23",
   "metadata": {},
   "outputs": [],
   "source": [
    "def plot_loss(history):\n",
    "  plt.plot(history.history['loss'], label='loss')\n",
    "  plt.plot(history.history['val_loss'], label='val_loss')\n",
    "  plt.ylim([0, 0.1])\n",
    "  plt.xlabel('Epoch')\n",
    "  plt.ylabel('Error')\n",
    "  plt.legend()\n",
    "  plt.grid(True)"
   ]
  },
  {
   "cell_type": "code",
   "execution_count": 199,
   "id": "7e5084ed",
   "metadata": {},
   "outputs": [
    {
     "data": {
      "image/png": "[encoded data removed]",
      "text/plain": [
       "<Figure size 640x480 with 1 Axes>"
      ]
     },
     "metadata": {},
     "output_type": "display_data"
    }
   ],
   "source": [
    "plot_loss(history)"
   ]
  },
  {
   "cell_type": "code",
   "execution_count": 200,
   "id": "3bd5ed7b",
   "metadata": {},
   "outputs": [
    {
     "name": "stdout",
     "output_type": "stream",
     "text": [
      "48/48 - 0s - loss: 0.0017 - 293ms/epoch - 6ms/step\n",
      "{'model': 0.0016512129222974181}\n"
     ]
    },
    {
     "data": {
      "text/plain": [
       "0.0016512129222974181"
      ]
     },
     "execution_count": 200,
     "metadata": {},
     "output_type": "execute_result"
    }
   ],
   "source": [
    "test_results = {}\n",
    "test_results['model'] = model.evaluate(X_test, y_test, verbose=2)\n",
    "print (test_results)\n",
    "test_results['model']"
   ]
  },
  {
   "cell_type": "code",
   "execution_count": 201,
   "id": "4cbab7fc",
   "metadata": {},
   "outputs": [],
   "source": [
    "y_predict= model.predict(X_test)"
   ]
  },
  {
   "cell_type": "code",
   "execution_count": 202,
   "id": "51e5a58a",
   "metadata": {},
   "outputs": [],
   "source": [
    "y_actual=y_test"
   ]
  },
  {
   "cell_type": "code",
   "execution_count": 203,
   "id": "fa07443e",
   "metadata": {},
   "outputs": [
    {
     "name": "stderr",
     "output_type": "stream",
     "text": [
      "C:\\Users\\320148~1\\AppData\\Local\\Temp/ipykernel_9264/2145655517.py:1: FutureWarning: Support for multi-dimensional indexing (e.g. `obj[:, None]`) is deprecated and will be removed in a future version.  Convert to a numpy array before indexing instead.\n",
      "  y_actual = y_actual[:, np.newaxis]\n"
     ]
    }
   ],
   "source": [
    "y_actual = y_actual[:, np.newaxis]"
   ]
  },
  {
   "cell_type": "code",
   "execution_count": 204,
   "id": "96eef6d1",
   "metadata": {
    "scrolled": true
   },
   "outputs": [
    {
     "data": {
      "image/png": "[encoded data removed]",
      "text/plain": [
       "<Figure size 640x480 with 1 Axes>"
      ]
     },
     "metadata": {},
     "output_type": "display_data"
    }
   ],
   "source": [
    "x=0\n",
    "x_Axis = np.linspace(x, x +50 , num=50)\n",
    "plt.style.use('classic')\n",
    "fig, ax = plt.subplots()\n",
    "ax.plot(x_Axis, y_predict[0:50,0], '-r', label='Predicted')\n",
    "ax.plot(x_Axis, y_actual[0:50,0], '--b', label='Actual(from csv)')\n",
    "#ax.axis('equal')\n",
    "ax.legend(loc='upper left', frameon=False)\n",
    "#leg = ax.legend();\n",
    "fig\n",
    "plt.show()"
   ]
  },
  {
   "cell_type": "code",
   "execution_count": 206,
   "id": "0b34756e",
   "metadata": {},
   "outputs": [
    {
     "name": "stdout",
     "output_type": "stream",
     "text": [
      "Model Performance\n",
      "Average Error: 0.0266 degrees.\n",
      "Accuracy = 99.37%.\n"
     ]
    }
   ],
   "source": [
    "ann_accuracy = evaluate(model,X_test,y_actual)"
   ]
  },
  {
   "cell_type": "code",
   "execution_count": 207,
   "id": "18f8dced",
   "metadata": {},
   "outputs": [
    {
     "data": {
      "text/plain": [
       "0.9209339196901667"
      ]
     },
     "execution_count": 207,
     "metadata": {},
     "output_type": "execute_result"
    }
   ],
   "source": [
    "score=r2_score(y_actual,y_predict)\n",
    "score"
   ]
  },
  {
   "cell_type": "markdown",
   "id": "1414883c",
   "metadata": {},
   "source": [
    "# Linear Regression"
   ]
  },
  {
   "cell_type": "code",
   "execution_count": 177,
   "id": "34448275",
   "metadata": {},
   "outputs": [],
   "source": [
    "from sklearn.linear_model import LinearRegression\n",
    "LR=LinearRegression()"
   ]
  },
  {
   "cell_type": "code",
   "execution_count": 208,
   "id": "da8e4552",
   "metadata": {},
   "outputs": [
    {
     "data": {
      "text/plain": [
       "0.48797964846627506"
      ]
     },
     "execution_count": 208,
     "metadata": {},
     "output_type": "execute_result"
    }
   ],
   "source": [
    "modelLR=LR.fit(X_train,y_train)\n",
    "y_pred_LR=modelLR.predict(X_test)\n",
    "scorelr=r2_score(y_actual,y_pred_LR)\n",
    "scorelr"
   ]
  },
  {
   "cell_type": "code",
   "execution_count": 209,
   "id": "ba822ede",
   "metadata": {},
   "outputs": [
    {
     "name": "stdout",
     "output_type": "stream",
     "text": [
      "Model Performance\n",
      "Average Error: 0.0724 degrees.\n",
      "Accuracy = 98.29%.\n"
     ]
    }
   ],
   "source": [
    "lr_accuracy=evaluate(modelLR,X_test,y_test)"
   ]
  },
  {
   "cell_type": "code",
   "execution_count": 210,
   "id": "19f68f70",
   "metadata": {},
   "outputs": [
    {
     "data": {
      "text/plain": [
       "0.010693006705524241"
      ]
     },
     "execution_count": 210,
     "metadata": {},
     "output_type": "execute_result"
    }
   ],
   "source": [
    "mse=mean_squared_error(y_actual,y_pred_LR)\n",
    "mse"
   ]
  },
  {
   "cell_type": "markdown",
   "id": "8bcd527b",
   "metadata": {},
   "source": [
    "# Polynomial"
   ]
  },
  {
   "cell_type": "code",
   "execution_count": 211,
   "id": "7221bde9",
   "metadata": {},
   "outputs": [],
   "source": [
    "from sklearn.preprocessing import PolynomialFeatures\n",
    "PR=PolynomialFeatures(degree=4)"
   ]
  },
  {
   "cell_type": "code",
   "execution_count": 212,
   "id": "21b74fa1",
   "metadata": {},
   "outputs": [
    {
     "data": {
      "text/plain": [
       "LinearRegression()"
      ]
     },
     "execution_count": 212,
     "metadata": {},
     "output_type": "execute_result"
    }
   ],
   "source": [
    "X_poly=PR.fit_transform(X_train)\n",
    "LR2=LinearRegression()\n",
    "LR2.fit(X_poly,y_train)"
   ]
  },
  {
   "cell_type": "code",
   "execution_count": 213,
   "id": "c11fbffd",
   "metadata": {},
   "outputs": [],
   "source": [
    "y_predpr=LR2.predict(PR.fit_transform(X_test))"
   ]
  },
  {
   "cell_type": "code",
   "execution_count": 214,
   "id": "49535418",
   "metadata": {},
   "outputs": [
    {
     "data": {
      "text/plain": [
       "0.9052774058066378"
      ]
     },
     "execution_count": 214,
     "metadata": {},
     "output_type": "execute_result"
    }
   ],
   "source": [
    "scorepr=r2_score(y_actual,y_predpr)\n",
    "scorepr"
   ]
  },
  {
   "cell_type": "code",
   "execution_count": 215,
   "id": "e21439c6",
   "metadata": {},
   "outputs": [
    {
     "name": "stdout",
     "output_type": "stream",
     "text": [
      "Model Performance\n",
      "Average Error: 0.0304 degrees.\n",
      "Accuracy = 99.28%.\n"
     ]
    }
   ],
   "source": [
    "pr_accuracy=evaluate(LR2,PR.fit_transform(X_test),y_test)"
   ]
  },
  {
   "cell_type": "markdown",
   "id": "7ae62d56",
   "metadata": {},
   "source": [
    "# RandomForest"
   ]
  },
  {
   "cell_type": "code",
   "execution_count": 156,
   "id": "8c4f9c74",
   "metadata": {},
   "outputs": [],
   "source": [
    "from sklearn.ensemble import RandomForestRegressor\n",
    "from sklearn.model_selection import RandomizedSearchCV"
   ]
  },
  {
   "cell_type": "code",
   "execution_count": 157,
   "id": "dd7520e3",
   "metadata": {},
   "outputs": [],
   "source": [
    "rf=RandomForestRegressor()"
   ]
  },
  {
   "cell_type": "code",
   "execution_count": 159,
   "id": "426d218a",
   "metadata": {},
   "outputs": [
    {
     "name": "stdout",
     "output_type": "stream",
     "text": [
      "{'bootstrap': True, 'ccp_alpha': 0.0, 'criterion': 'squared_error', 'max_depth': None, 'max_features': 'auto', 'max_leaf_nodes': None, 'max_samples': None, 'min_impurity_decrease': 0.0, 'min_samples_leaf': 1, 'min_samples_split': 2, 'min_weight_fraction_leaf': 0.0, 'n_estimators': 100, 'n_jobs': None, 'oob_score': False, 'random_state': None, 'verbose': 0, 'warm_start': False}\n"
     ]
    }
   ],
   "source": [
    "print(rf.get_params())"
   ]
  },
  {
   "cell_type": "code",
   "execution_count": 160,
   "id": "bcd9e60b",
   "metadata": {},
   "outputs": [
    {
     "name": "stdout",
     "output_type": "stream",
     "text": [
      "{'n_estimators': [200, 400, 600, 800, 1000, 1200, 1400, 1600, 1800, 2000], 'max_features': ['auto', 'sqrt'], 'max_depth': [10, 20, 30, 40, 50, 60, 70, 80, 90, 100, 110, None], 'min_samples_split': [2, 5, 10], 'min_samples_leaf': [1, 2, 4], 'bootstrap': [True, False]}\n"
     ]
    }
   ],
   "source": [
    "n_estimators = [int(x) for x in np.linspace(start = 200, stop = 2000, num = 10)]\n",
    "max_features = ['auto', 'sqrt']\n",
    "max_depth = [int(x) for x in np.linspace(10, 110, num = 11)]\n",
    "max_depth.append(None)\n",
    "min_samples_split = [2, 5, 10]\n",
    "min_samples_leaf = [1, 2, 4]\n",
    "bootstrap = [True, False]\n",
    "random_grid = {'n_estimators': n_estimators,\n",
    "               'max_features': max_features,\n",
    "               'max_depth': max_depth,\n",
    "               'min_samples_split': min_samples_split,\n",
    "               'min_samples_leaf': min_samples_leaf,\n",
    "               'bootstrap': bootstrap}\n",
    "print(random_grid)"
   ]
  },
  {
   "cell_type": "code",
   "execution_count": 161,
   "id": "0ded9ab4",
   "metadata": {},
   "outputs": [],
   "source": [
    "rf_random = RandomizedSearchCV(estimator = rf, param_distributions = random_grid, n_iter = 100, cv = 3, verbose=2, random_state=42, n_jobs = -1)"
   ]
  },
  {
   "cell_type": "code",
   "execution_count": 162,
   "id": "6e2bd44e",
   "metadata": {},
   "outputs": [
    {
     "name": "stdout",
     "output_type": "stream",
     "text": [
      "Fitting 3 folds for each of 100 candidates, totalling 300 fits\n"
     ]
    },
    {
     "data": {
      "text/plain": [
       "RandomizedSearchCV(cv=3, estimator=RandomForestRegressor(), n_iter=100,\n",
       "                   n_jobs=-1,\n",
       "                   param_distributions={'bootstrap': [True, False],\n",
       "                                        'max_depth': [10, 20, 30, 40, 50, 60,\n",
       "                                                      70, 80, 90, 100, 110,\n",
       "                                                      None],\n",
       "                                        'max_features': ['auto', 'sqrt'],\n",
       "                                        'min_samples_leaf': [1, 2, 4],\n",
       "                                        'min_samples_split': [2, 5, 10],\n",
       "                                        'n_estimators': [200, 400, 600, 800,\n",
       "                                                         1000, 1200, 1400, 1600,\n",
       "                                                         1800, 2000]},\n",
       "                   random_state=42, verbose=2)"
      ]
     },
     "execution_count": 162,
     "metadata": {},
     "output_type": "execute_result"
    }
   ],
   "source": [
    "rf_random.fit(X_train,y_train)"
   ]
  },
  {
   "cell_type": "code",
   "execution_count": 163,
   "id": "d9b091e8",
   "metadata": {},
   "outputs": [
    {
     "data": {
      "text/plain": [
       "{'n_estimators': 400,\n",
       " 'min_samples_split': 2,\n",
       " 'min_samples_leaf': 1,\n",
       " 'max_features': 'sqrt',\n",
       " 'max_depth': None,\n",
       " 'bootstrap': False}"
      ]
     },
     "execution_count": 163,
     "metadata": {},
     "output_type": "execute_result"
    }
   ],
   "source": [
    "rf_random.best_params_"
   ]
  },
  {
   "cell_type": "code",
   "execution_count": 164,
   "id": "7aad75ec",
   "metadata": {},
   "outputs": [],
   "source": [
    "def evaluate(model, test_features, test_labels):\n",
    "    predictions = model.predict(test_features)\n",
    "    errors = abs(predictions - test_labels)\n",
    "    mape = 100 * np.mean(errors / test_labels)\n",
    "    accuracy = 100 - mape\n",
    "    print('Model Performance')\n",
    "    print('Average Error: {:0.4f} degrees.'.format(np.mean(errors)))\n",
    "    print('Accuracy = {:0.2f}%.'.format(accuracy))\n",
    "    \n",
    "    return accuracy"
   ]
  },
  {
   "cell_type": "code",
   "execution_count": 165,
   "id": "fa90ec99",
   "metadata": {},
   "outputs": [
    {
     "name": "stdout",
     "output_type": "stream",
     "text": [
      "Model Performance\n",
      "Average Error: 0.0279 degrees.\n",
      "Accuracy = 99.34%.\n"
     ]
    }
   ],
   "source": [
    "base_model = RandomForestRegressor(n_estimators = 10, random_state = 42)\n",
    "base_model.fit(X_train,y_train)\n",
    "base_accuracy = evaluate(rf_random, X_test,y_test)"
   ]
  },
  {
   "cell_type": "code",
   "execution_count": 166,
   "id": "b2f8f67c",
   "metadata": {},
   "outputs": [
    {
     "name": "stdout",
     "output_type": "stream",
     "text": [
      "Model Performance\n",
      "Average Error: 0.0279 degrees.\n",
      "Accuracy = 99.34%.\n"
     ]
    }
   ],
   "source": [
    "best_random = rf_random.best_estimator_\n",
    "random_accuracy = evaluate(best_random,X_test,y_test)"
   ]
  },
  {
   "cell_type": "code",
   "execution_count": 169,
   "id": "a3994394",
   "metadata": {},
   "outputs": [],
   "source": [
    "y_pred_rf=best_random.predict(X_test)"
   ]
  },
  {
   "cell_type": "code",
   "execution_count": 172,
   "id": "07b277c9",
   "metadata": {},
   "outputs": [],
   "source": [
    "y_pred_rf = y_pred_rf[:, np.newaxis]"
   ]
  },
  {
   "cell_type": "code",
   "execution_count": 173,
   "id": "f6cde9eb",
   "metadata": {},
   "outputs": [
    {
     "data": {
      "image/png": "[encoded data removed]",
      "text/plain": [
       "<Figure size 640x480 with 1 Axes>"
      ]
     },
     "metadata": {},
     "output_type": "display_data"
    }
   ],
   "source": [
    "x=0\n",
    "x_Axis = np.linspace(x, x +50 , num=50)\n",
    "plt.style.use('classic')\n",
    "fig, ax = plt.subplots()\n",
    "ax.plot(x_Axis, y_pred_rf[0:50,0], '-r', label='Predicted')\n",
    "ax.plot(x_Axis, y_actual[0:50,0], '--b', label='Actual(from csv)')\n",
    "#ax.axis('equal')\n",
    "ax.legend(loc='upper left', frameon=False)\n",
    "#leg = ax.legend();\n",
    "fig\n",
    "plt.show()"
   ]
  },
  {
   "cell_type": "code",
   "execution_count": 174,
   "id": "e6d0aeac",
   "metadata": {},
   "outputs": [
    {
     "data": {
      "text/plain": [
       "0.9164048702299187"
      ]
     },
     "execution_count": 174,
     "metadata": {},
     "output_type": "execute_result"
    }
   ],
   "source": [
    "scoreRf=r2_score(y_actual, y_pred_rf)\n",
    "scoreRf"
   ]
  },
  {
   "cell_type": "code",
   "execution_count": null,
   "id": "92e4e3ec",
   "metadata": {},
   "outputs": [],
   "source": []
  }
 ],
 "metadata": {
  "kernelspec": {
   "display_name": "Python 3 (ipykernel)",
   "language": "python",
   "name": "python3"
  },
  "language_info": {
   "codemirror_mode": {
    "name": "ipython",
    "version": 3
   },
   "file_extension": ".py",
   "mimetype": "text/x-python",
   "name": "python",
   "nbconvert_exporter": "python",
   "pygments_lexer": "ipython3",
   "version": "3.9.7"
  }
 },
 "nbformat": 4,
 "nbformat_minor": 5
}
